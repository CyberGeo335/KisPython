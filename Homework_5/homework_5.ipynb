{
 "cells": [
  {
   "cell_type": "markdown",
   "source": [
    "Variant № 8\n",
    "Homework 5"
   ],
   "metadata": {
    "collapsed": false
   }
  },
  {
   "cell_type": "code",
   "execution_count": 2,
   "outputs": [
    {
     "name": "stdout",
     "output_type": "stream",
     "text": [
      "[('rienor_525', 2777), ('arinti', 6763)]\n",
      "[('died', -8344), ('cele_373', 8805)]\n"
     ]
    }
   ],
   "source": [
    "import re\n",
    "\n",
    "\n",
    "def main(text):\n",
    "    answer = []\n",
    "    item = re.findall(r'decl\\s(-?\\d+)', text)\n",
    "    for i in range(len(item)):\n",
    "        item[i] = int(item[i])\n",
    "    key = re.findall(r'\"(\\w+)\"', text)\n",
    "    for i in range(len(item)):\n",
    "        answer = list(zip(key, item))\n",
    "    return answer\n",
    "\n",
    "\n",
    "str = '<block> do decl 2777 =:\"rienor_525\". od do decl 6763 =: \"arinti\". od </block>'\n",
    "print(main(str))\n",
    "str = '<block>do decl -8344 =: \"died\". od do decl 8805 =: \"cele_373\". od\\n</block>'\n",
    "print(main(str))"
   ],
   "metadata": {
    "collapsed": false
   }
  },
  {
   "cell_type": "markdown",
   "source": [
    "Variant № 10\n",
    "Homework 5"
   ],
   "metadata": {
    "collapsed": false
   }
  },
  {
   "cell_type": "code",
   "execution_count": 3,
   "metadata": {
    "collapsed": true
   },
   "outputs": [
    {
     "name": "stdout",
     "output_type": "stream",
     "text": [
      "[('quge_90', 'leerte_387'), ('arma', 'maaren_462'), ('bege_385', 'gete_30'), ('ange_220', 'anor_681')]\n",
      "[('diqu_366', 'zaveza_138'), ('atceso_967', 'aarabe_936')]\n"
     ]
    }
   ],
   "source": [
    "def main(str):\n",
    "    SplitStr = str.split()\n",
    "\n",
    "    FirstElem, SecondElem = [], []\n",
    "    Tmp = []\n",
    "\n",
    "    SearchFirstElem = \"define\"\n",
    "    SearchSecondElem = \"->\"\n",
    "    dot = \".\"\n",
    "\n",
    "    # print(\"SplitStr: \", SplitStr)\n",
    "\n",
    "    # Заполнение массива FirstElem и Tmp\n",
    "    for i in range(len(SplitStr)):\n",
    "        if SplitStr[i].find(SearchFirstElem) != -1:\n",
    "            FirstElem.append(SplitStr[i + 1])\n",
    "        if SplitStr[i].find(SearchSecondElem) != -1:\n",
    "            Tmp.append((SplitStr[i]))\n",
    "            Tmp.append(SplitStr[i + 1])\n",
    "\n",
    "    # print(\"FirstElem: \", FirstElem)\n",
    "\n",
    "    # Работа со вторым массивом\n",
    "    for i in range(len(Tmp)):\n",
    "        if Tmp[i].find(SearchSecondElem) != -1 and len(Tmp[i]) > 2:\n",
    "            SecondElem.append(Tmp[i][2:])\n",
    "        elif Tmp[i] == '->':\n",
    "            SecondElem.append(Tmp[i + 1])\n",
    "\n",
    "    # print(\"SecondElem: \", SecondElem)\n",
    "\n",
    "    # Чистка от точек и всякой шелухи\n",
    "    for i in range(len(SecondElem)):\n",
    "        if SecondElem[i].find(dot):\n",
    "            MySlice = -(len(SecondElem[i]) - SecondElem[i].find(dot))\n",
    "            SecondElem[i] = SecondElem[i].replace(SecondElem[i], SecondElem[i][:MySlice])\n",
    "    # print(SecondElem)\n",
    "    Result = list(zip(SecondElem, FirstElem))\n",
    "    return Result\n",
    "\n",
    "\n",
    "str = \"<sect> <section>define leerte_387 ->quge_90. </section>.<section> define maaren_462 ->arma. </section>. \" \\\n",
    "      \"<section>define gete_30 -> bege_385. </section>. <section>define anor_681 -> ange_220. </section>. </sect> \"\n",
    "str2 = \"<sect> <section>define zaveza_138 -> diqu_366. </section>.<section>define aarabe_936 -> atceso_967.</section>. </sect>\"\n",
    "\n",
    "print(main(str))\n",
    "print(main(str2))"
   ]
  },
  {
   "cell_type": "markdown",
   "source": [
    "Variant № 14\n",
    "Homework 5"
   ],
   "metadata": {
    "collapsed": false
   }
  },
  {
   "cell_type": "code",
   "execution_count": 4,
   "outputs": [
    {
     "name": "stdout",
     "output_type": "stream",
     "text": [
      "[('anat_322', -8189), ('bedi', 8892), ('orlece', -2018), ('enorre_375', 1454)]\n",
      "[('usceat_143', 1605), ('xeed_288', -7668), ('erxe_772', -3726)]\n"
     ]
    }
   ],
   "source": [
    "import re\n",
    "\n",
    "\n",
    "def main(text):\n",
    "    answer = []\n",
    "    item = re.findall(r'=\\s?(-?\\d+)', text)\n",
    "    for i in range(len(item)):\n",
    "        item[i] = int(item[i])\n",
    "    key = re.findall(r\"@'(\\w+)'\", text)\n",
    "    for i in range(len(item)):\n",
    "        answer = list(zip(key, item))\n",
    "    return answer\n",
    "\n",
    "\n",
    "str = \"<block> .do let @'anat_322'= -8189 .end .do let @'bedi'=8892 .end .do let @'orlece'= -2018 .end .do let @'enorre_375'= 1454 .end </block>\"\n",
    "print(main(str))\n",
    "str = \"<block> .do let @'usceat_143' = 1605 .end .do let @'xeed_288' = -7668 .end .do let @'erxe_772'= -3726 .end</block>\"\n",
    "print(main(str))"
   ],
   "metadata": {
    "collapsed": false
   }
  },
  {
   "cell_type": "markdown",
   "source": [
    "Variant № 18\n",
    "Homework 5\n",
    "\n",
    "Входная строка:\n",
    "\n",
    "{{ auto \"beis\"=@'ines_261'. }} {{auto \"cera\"=@'xearima_452'. }}\n",
    "{{auto \"rarebe\" =@'usedla'. }} {{auto \"ator_276\"= @'tiinra'. }}"
   ],
   "metadata": {
    "collapsed": false
   }
  },
  {
   "cell_type": "code",
   "execution_count": 5,
   "outputs": [
    {
     "name": "stdout",
     "output_type": "stream",
     "text": [
      "[]\n"
     ]
    }
   ],
   "source": [
    "import re\n",
    "\n",
    "\n",
    "def main(text):\n",
    "    answer = []\n",
    "    FirstItem = re.findall(r'\"(\\w+)\"', text)\n",
    "    SecondItem = re.findall(r\"@'(\\w+)'\", text)\n",
    "    for i in range(len(FirstItem)):\n",
    "        answer = list(zip(FirstItem, SecondItem))\n",
    "    return answer\n",
    "\n",
    "\n",
    "print(main(str))"
   ],
   "metadata": {
    "collapsed": false
   }
  }
 ],
 "metadata": {
  "kernelspec": {
   "display_name": "Python 3",
   "language": "python",
   "name": "python3"
  },
  "language_info": {
   "codemirror_mode": {
    "name": "ipython",
    "version": 2
   },
   "file_extension": ".py",
   "mimetype": "text/x-python",
   "name": "python",
   "nbconvert_exporter": "python",
   "pygments_lexer": "ipython2",
   "version": "2.7.6"
  }
 },
 "nbformat": 4,
 "nbformat_minor": 0
}
