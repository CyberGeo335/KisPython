{
 "cells": [
  {
   "cell_type": "markdown",
   "source": [
    "Variant № 10"
   ],
   "metadata": {
    "collapsed": false
   }
  },
  {
   "cell_type": "code",
   "execution_count": 80,
   "metadata": {
    "collapsed": true
   },
   "outputs": [
    {
     "name": "stdout",
     "output_type": "stream",
     "text": [
      "-0.03755446779594103\n"
     ]
    }
   ],
   "source": [
    "from decimal import Decimal\n",
    "from math import sqrt\n",
    "from math import pow\n",
    "from math import floor\n",
    "\n",
    "def main(x,y):\n",
    "\n",
    "    NumeratorLeft = 73 * pow((pow(y, 3)/ 10), 2) - 6 * pow(abs(x),6)\n",
    "    DenomiratorLeft = pow((78 * pow(y,2) - pow(y, 3)), 6) + 76 * pow(x, 4)\n",
    "    NumeratorRight = (82 * pow(floor(pow(x, 3)), 4)) - pow(y, 7)\n",
    "    DenomiratorRight = pow(x, 5) + (98 * pow(y, 14))\n",
    "    Result = NumeratorLeft/DenomiratorLeft + sqrt(NumeratorRight/DenomiratorRight)\n",
    "    return Result\n",
    "\n",
    "\n",
    "print(main(0.69, -0.04))"
   ]
  },
  {
   "cell_type": "markdown",
   "source": [
    "Variant № 14"
   ],
   "metadata": {
    "collapsed": false
   }
  },
  {
   "cell_type": "code",
   "execution_count": 81,
   "outputs": [
    {
     "name": "stdout",
     "output_type": "stream",
     "text": [
      "1609.26740704205849397112615406513214111328125\n"
     ]
    }
   ],
   "source": [
    "from decimal import Decimal\n",
    "from math import sqrt\n",
    "from math import pow\n",
    "from math import cos\n",
    "from math import acos\n",
    "\n",
    "\n",
    "def main(x, z):\n",
    "    LPart = pow((1 - pow(z, 3) / 47 - 71 * z), 2) - 85 * pow(cos(x), 6)\n",
    "    LPart = sqrt(LPart)\n",
    "    RPart = 79 * pow((1 + 78 * pow(z, 2) + pow(x, 3)), 5)\n",
    "    Tmp = RPart - 13 * acos(79 * pow(z, 3))\n",
    "    Result = LPart + Tmp\n",
    "    return Decimal(Result)\n",
    "\n",
    "\n",
    "print(main(0.86, -0.05))"
   ],
   "metadata": {
    "collapsed": false
   }
  },
  {
   "cell_type": "markdown",
   "source": [
    "Variant № 18\n"
   ],
   "metadata": {
    "collapsed": false
   }
  },
  {
   "cell_type": "code",
   "execution_count": 82,
   "outputs": [
    {
     "name": "stdout",
     "output_type": "stream",
     "text": [
      "84437.923619780354783870279788970947265625\n"
     ]
    }
   ],
   "source": [
    "from decimal import Decimal\n",
    "from math import sqrt\n",
    "from math import pow\n",
    "from math import floor\n",
    "from math import cos\n",
    "from math import acos\n",
    "from math import tan\n",
    "\n",
    "def main(x, z, y):\n",
    "\n",
    "    NumLeft =  pow((sqrt(41 * y**2)),3) + ((z**3+94+ 43*x)/15)\n",
    "    DenLeft = pow((47 * pow(x,3)),4) + pow((30 - 76*pow(y,2)-88*pow(z,3)),5)\n",
    "    Mid = 18 * pow(tan(0.02 + z), 2)\n",
    "    Right = pow((((y**3)/4) - x**2 - 97*y),5)\n",
    "    Res = NumLeft/DenLeft + Mid + Right\n",
    "    return Decimal(Res)\n",
    "\n",
    "\n",
    "print(main(-0.18, -0.08, -0.1))"
   ],
   "metadata": {
    "collapsed": false
   }
  },
  {
   "cell_type": "markdown",
   "source": [
    "Variant № 12\n"
   ],
   "metadata": {
    "collapsed": false
   }
  },
  {
   "cell_type": "code",
   "execution_count": 83,
   "outputs": [
    {
     "name": "stdout",
     "output_type": "stream",
     "text": [
      "2444.06637623583947060978971421718597412109375\n",
      "14.0283631505616614987275170278735458850860595703125\n"
     ]
    }
   ],
   "source": [
    "from decimal import Decimal\n",
    "from math import sqrt\n",
    "from math import pow\n",
    "from math import exp\n",
    "from math import acos\n",
    "from math import sin\n",
    "from math import log\n",
    "from math import atan\n",
    "\n",
    "def main(z, y, x):\n",
    "    up = ((exp(98 * y**2 - y**3 - x))**3)/72\n",
    "    up = up - (((abs(69 * z))**5)/12)\n",
    "    down = 17 * pow(acos(z),3) - pow(sin(x - 82 * y**2 - 1), 6)\n",
    "    left = sqrt(up/down)\n",
    "    right = pow(log(x, 10), 6) + pow(atan(y**2/52 - z),4)/56\n",
    "    right = sqrt(right)\n",
    "    res = left + right\n",
    "    return Decimal(res)\n",
    "\n",
    "print(main(-0.87,-0.3,0.3))\n",
    "print(main(-0.08,-0.23,0.56))"
   ],
   "metadata": {
    "collapsed": false
   }
  }
 ],
 "metadata": {
  "kernelspec": {
   "display_name": "Python 3",
   "language": "python",
   "name": "python3"
  },
  "language_info": {
   "codemirror_mode": {
    "name": "ipython",
    "version": 2
   },
   "file_extension": ".py",
   "mimetype": "text/x-python",
   "name": "python",
   "nbconvert_exporter": "python",
   "pygments_lexer": "ipython2",
   "version": "2.7.6"
  }
 },
 "nbformat": 4,
 "nbformat_minor": 0
}
