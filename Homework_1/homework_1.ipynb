{
 "cells": [
  {
   "cell_type": "markdown",
   "source": [
    "Variant № 10"
   ],
   "metadata": {
    "collapsed": false
   }
  },
  {
   "cell_type": "code",
   "execution_count": 75,
   "metadata": {
    "collapsed": true
   },
   "outputs": [
    {
     "name": "stdout",
     "output_type": "stream",
     "text": [
      "-0.03755446779594103\n"
     ]
    }
   ],
   "source": [
    "from decimal import Decimal\n",
    "from math import sqrt\n",
    "from math import pow\n",
    "from math import floor\n",
    "\n",
    "def main(x,y):\n",
    "\n",
    "    NumeratorLeft = 73 * pow((pow(y, 3)/ 10), 2) - 6 * pow(abs(x),6)\n",
    "    DenomiratorLeft = pow((78 * pow(y,2) - pow(y, 3)), 6) + 76 * pow(x, 4)\n",
    "    NumeratorRight = (82 * pow(floor(pow(x, 3)), 4)) - pow(y, 7)\n",
    "    DenomiratorRight = pow(x, 5) + (98 * pow(y, 14))\n",
    "    Result = NumeratorLeft/DenomiratorLeft + sqrt(NumeratorRight/DenomiratorRight)\n",
    "    return Result\n",
    "\n",
    "\n",
    "print(main(0.69, -0.04))"
   ]
  },
  {
   "cell_type": "markdown",
   "source": [
    "Variant № 14"
   ],
   "metadata": {
    "collapsed": false
   }
  },
  {
   "cell_type": "code",
   "execution_count": 76,
   "outputs": [
    {
     "name": "stdout",
     "output_type": "stream",
     "text": [
      "1609.26740704205849397112615406513214111328125\n"
     ]
    }
   ],
   "source": [
    "from decimal import Decimal\n",
    "from math import sqrt\n",
    "from math import pow\n",
    "from math import cos\n",
    "from math import acos\n",
    "\n",
    "\n",
    "def main(x, z):\n",
    "    LPart = pow((1 - pow(z, 3) / 47 - 71 * z), 2) - 85 * pow(cos(x), 6)\n",
    "    LPart = sqrt(LPart)\n",
    "    RPart = 79 * pow((1 + 78 * pow(z, 2) + pow(x, 3)), 5)\n",
    "    Tmp = RPart - 13 * acos(79 * pow(z, 3))\n",
    "    Result = LPart + Tmp\n",
    "    return Decimal(Result)\n",
    "\n",
    "\n",
    "print(main(0.86, -0.05))"
   ],
   "metadata": {
    "collapsed": false
   }
  },
  {
   "cell_type": "markdown",
   "source": [
    "Variant № 18\n"
   ],
   "metadata": {
    "collapsed": false
   }
  },
  {
   "cell_type": "code",
   "execution_count": 77,
   "outputs": [
    {
     "name": "stdout",
     "output_type": "stream",
     "text": [
      "84437.923619780354783870279788970947265625\n"
     ]
    }
   ],
   "source": [
    "from decimal import Decimal\n",
    "from math import sqrt\n",
    "from math import pow\n",
    "from math import floor\n",
    "from math import cos\n",
    "from math import acos\n",
    "from math import tan\n",
    "\n",
    "def main(x, z, y):\n",
    "\n",
    "    NumLeft =  pow((sqrt(41 * y**2)),3) + ((z**3+94+ 43*x)/15)\n",
    "    DenLeft = pow((47 * pow(x,3)),4) + pow((30 - 76*pow(y,2)-88*pow(z,3)),5)\n",
    "    Mid = 18 * pow(tan(0.02 + z), 2)\n",
    "    Right = pow((((y**3)/4) - x**2 - 97*y),5)\n",
    "    Res = NumLeft/DenLeft + Mid + Right\n",
    "    return Decimal(Res)\n",
    "\n",
    "\n",
    "print(main(-0.18, -0.08, -0.1))"
   ],
   "metadata": {
    "collapsed": false
   }
  }
 ],
 "metadata": {
  "kernelspec": {
   "display_name": "Python 3",
   "language": "python",
   "name": "python3"
  },
  "language_info": {
   "codemirror_mode": {
    "name": "ipython",
    "version": 2
   },
   "file_extension": ".py",
   "mimetype": "text/x-python",
   "name": "python",
   "nbconvert_exporter": "python",
   "pygments_lexer": "ipython2",
   "version": "2.7.6"
  }
 },
 "nbformat": 4,
 "nbformat_minor": 0
}
