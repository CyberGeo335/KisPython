{
 "cells": [
  {
   "cell_type": "markdown",
   "source": [
    "Variant № 6\n",
    "task 1"
   ],
   "metadata": {
    "collapsed": false
   }
  },
  {
   "cell_type": "code",
   "execution_count": 2,
   "metadata": {
    "collapsed": true
   },
   "outputs": [
    {
     "name": "stdout",
     "output_type": "stream",
     "text": [
      "-352695.55828946835\n"
     ]
    }
   ],
   "source": [
    "def main(y):\n",
    "    p1 = 31 * (37 * y + y ** 3)**3\n",
    "    p2 = y**7 / 80 - 6 * y**4\n",
    "    p3 = y**3 / (2 * (y**2 + y**3 + 87*y)**5)\n",
    "    return p1 / p2 - p3\n",
    "\n",
    "print(main(0.78))"
   ]
  },
  {
   "cell_type": "markdown",
   "source": [
    "Variant № 6\n",
    "task 2"
   ],
   "metadata": {
    "collapsed": false
   }
  },
  {
   "cell_type": "code",
   "execution_count": 4,
   "outputs": [
    {
     "name": "stdout",
     "output_type": "stream",
     "text": [
      "-2.389931394176622e+44\n"
     ]
    }
   ],
   "source": [
    "from math import ceil\n",
    "from math import  floor\n",
    "from math import log\n",
    "\n",
    "def main(y):\n",
    "    if y < 34:\n",
    "        return 22 * (y**3 - y)**7\n",
    "    elif 34 <= y < 100:\n",
    "        tmp = ceil(72*y**2 + 74*y + y**3)\n",
    "        tmp += 81 * (1 + y/47)**5\n",
    "        return tmp\n",
    "    elif 100 <= y <= 193:\n",
    "        return y**5 + (80*y - 0.02 - y**3)**7\n",
    "    elif 193 <= y < 258:\n",
    "        return 43 * log(y)**4 + ((18*y**2)**2/7)\n",
    "    elif y >= 258:\n",
    "        tmp1 = (y**2 - 84 - y)**6 / 93 - ceil(y)**5\n",
    "        return tmp1\n",
    "\n",
    "print(main(130))\n"
   ],
   "metadata": {
    "collapsed": false
   }
  },
  {
   "cell_type": "markdown",
   "source": [
    "Variant № 6\n",
    "task 3"
   ],
   "metadata": {
    "collapsed": false
   }
  },
  {
   "cell_type": "code",
   "execution_count": 29,
   "outputs": [
    {
     "name": "stdout",
     "output_type": "stream",
     "text": [
      "-1.101612990839101e+184\n"
     ]
    }
   ],
   "source": [
    "def main(n, x, b, p):\n",
    "    sumleft = 0\n",
    "    for k in range(1, n + 1):\n",
    "        sumleft += (64 * x**5 - x**21 - 12 * k**6)\n",
    "    sumright = 0\n",
    "    umnright = 1\n",
    "    for k in range(1, b + 1):\n",
    "        for c in range(1, n + 1):\n",
    "            tmp = (95 * (p**3 - 14 * c - 1)**4 - k**6 - 1)\n",
    "            umnright *= tmp\n",
    "        sumright += umnright\n",
    "    return sumleft - sumright\n",
    "\n",
    "\n",
    "print(main(3, -0.31, 8, 0.36))"
   ],
   "metadata": {
    "collapsed": false
   }
  },
  {
   "cell_type": "markdown",
   "source": [
    "Variant № 6\n",
    "task 4"
   ],
   "metadata": {
    "collapsed": false
   }
  },
  {
   "cell_type": "code",
   "execution_count": 5,
   "outputs": [
    {
     "name": "stdout",
     "output_type": "stream",
     "text": [
      "0.048036533255110814\n"
     ]
    }
   ],
   "source": [
    "from math import asin\n",
    "\n",
    "def main(n):\n",
    "    if n == 0:\n",
    "        return -0.53\n",
    "    elif n == 1:\n",
    "        return -0.84\n",
    "    elif n >= 2:\n",
    "        return main(n - 2)**2 - asin(main(n - 1)**2)\n",
    "\n",
    "print(main(4))"
   ],
   "metadata": {
    "collapsed": false
   }
  },
  {
   "cell_type": "markdown",
   "source": [
    "\n",
    "Variant № 6\n",
    "task 5"
   ],
   "metadata": {
    "collapsed": false
   }
  },
  {
   "cell_type": "code",
   "execution_count": 18,
   "outputs": [
    {
     "name": "stdout",
     "output_type": "stream",
     "text": [
      "-11433258779.005537\n"
     ]
    }
   ],
   "source": [
    "from math import ceil\n",
    "from math import floor\n",
    "def main(z, y):\n",
    "    n = len(z) - 1\n",
    "    result = 0\n",
    "    for i in range(0, n + 1):\n",
    "        pl = (z[n - i // 2]**2 - 42 * y[n - i // 4])**5\n",
    "        result += 68 * pl\n",
    "    return result\n",
    "\n",
    "\n",
    "z = [-0.59, 0.11, -0.6]\n",
    "y = [0.98, 0.65, 0.85]\n",
    "print(main(z,y))"
   ],
   "metadata": {
    "collapsed": false
   }
  },
  {
   "cell_type": "code",
   "execution_count": null,
   "outputs": [],
   "source": [],
   "metadata": {
    "collapsed": false
   }
  }
 ],
 "metadata": {
  "kernelspec": {
   "display_name": "Python 3",
   "language": "python",
   "name": "python3"
  },
  "language_info": {
   "codemirror_mode": {
    "name": "ipython",
    "version": 2
   },
   "file_extension": ".py",
   "mimetype": "text/x-python",
   "name": "python",
   "nbconvert_exporter": "python",
   "pygments_lexer": "ipython2",
   "version": "2.7.6"
  }
 },
 "nbformat": 4,
 "nbformat_minor": 0
}
