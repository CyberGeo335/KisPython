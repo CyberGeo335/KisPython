{
 "cells": [
  {
   "cell_type": "markdown",
   "source": [
    "Variant 12\n",
    "№ 2"
   ],
   "metadata": {
    "collapsed": false
   }
  },
  {
   "cell_type": "code",
   "execution_count": 2,
   "metadata": {
    "collapsed": true
   },
   "outputs": [
    {
     "name": "stdout",
     "output_type": "stream",
     "text": [
      "8.179563223784729e+35\n",
      "-706086660814.0253\n"
     ]
    }
   ],
   "source": [
    "from math import sqrt\n",
    "from math import ceil\n",
    "from math import log\n",
    "\n",
    "def main (x):\n",
    "    if x < 5:\n",
    "        return 25 * (85 * x**2 + 0.02 + x**3)**7\n",
    "    elif 5 <= x < 53:\n",
    "        return 1 + 85 * sqrt(x)\n",
    "    elif 53 <= x < 74:\n",
    "        return (83 * x)**6 + 27 * (1 + x)**5\n",
    "    elif 74 <= x < 148:\n",
    "        tmp = - x**7/79 - 13 * x\n",
    "        return 62 * ceil(x)**3 + tmp\n",
    "    elif x >= 148:\n",
    "        return log(x**2 + x/68)*87\n",
    "\n",
    "print(main(-48))\n",
    "print(main(92))"
   ]
  },
  {
   "cell_type": "markdown",
   "source": [
    "Variant 12\n",
    "№ 3"
   ],
   "metadata": {
    "collapsed": false
   }
  },
  {
   "cell_type": "code",
   "execution_count": 5,
   "outputs": [
    {
     "name": "stdout",
     "output_type": "stream",
     "text": [
      "-12469979.615620565\n",
      "19928022.72023993\n"
     ]
    }
   ],
   "source": [
    "def main(n,a,m,z):\n",
    "    res = 0\n",
    "    for k in range(1, m+1):\n",
    "        for j in range(1, a+1):\n",
    "            for c in range(1,n+1):\n",
    "                tmp = 7 * (z**2 - j)**6\n",
    "                res += tmp - 47 * k**5 - c\n",
    "    return res\n",
    "\n",
    "print(main(6,5,6,-0.26))\n",
    "print(main(6,8,6,0.99))"
   ],
   "metadata": {
    "collapsed": false
   }
  },
  {
   "cell_type": "markdown",
   "source": [
    "Variant 12\n",
    "№ 4"
   ],
   "metadata": {
    "collapsed": false
   }
  },
  {
   "cell_type": "code",
   "execution_count": 12,
   "outputs": [
    {
     "name": "stdout",
     "output_type": "stream",
     "text": [
      "0.016210306958259025\n",
      "-0.054587592293524306\n"
     ]
    }
   ],
   "source": [
    "def main(n):\n",
    "    if n == 0:\n",
    "        return 0.22\n",
    "    elif n == 1:\n",
    "        return -0.11\n",
    "    elif n >= 2:\n",
    "        prt1 = main(n - 1)**3\n",
    "        prt2 = 74 * main(n - 1)**2 - 44 * main(n - 2)\n",
    "        return prt1 - prt2/98\n",
    "\n",
    "print(main(6))\n",
    "print(main(3))"
   ],
   "metadata": {
    "collapsed": false
   }
  },
  {
   "cell_type": "markdown",
   "source": [
    "Variant 12\n",
    "№ 5"
   ],
   "metadata": {
    "collapsed": false
   }
  },
  {
   "cell_type": "code",
   "execution_count": 19,
   "outputs": [
    {
     "name": "stdout",
     "output_type": "stream",
     "text": [
      "239.25047250316328\n"
     ]
    }
   ],
   "source": [
    "from math import log10\n",
    "def main(z):\n",
    "    n = len(z)-1\n",
    "    res = 0\n",
    "    for i in range(0, n+1):\n",
    "        tmp = 54 + 44 * z[i // 4]**2 + z[i // 4]/80\n",
    "        res += 3 * log10(tmp)**5\n",
    "    return res\n",
    "\n",
    "z = [-0.16, -0.08, -0.93, 0.83, 0.7]\n",
    "print(main(z))"
   ],
   "metadata": {
    "collapsed": false
   }
  },
  {
   "cell_type": "code",
   "execution_count": null,
   "outputs": [],
   "source": [],
   "metadata": {
    "collapsed": false
   }
  }
 ],
 "metadata": {
  "kernelspec": {
   "display_name": "Python 3",
   "language": "python",
   "name": "python3"
  },
  "language_info": {
   "codemirror_mode": {
    "name": "ipython",
    "version": 2
   },
   "file_extension": ".py",
   "mimetype": "text/x-python",
   "name": "python",
   "nbconvert_exporter": "python",
   "pygments_lexer": "ipython2",
   "version": "2.7.6"
  }
 },
 "nbformat": 4,
 "nbformat_minor": 0
}
