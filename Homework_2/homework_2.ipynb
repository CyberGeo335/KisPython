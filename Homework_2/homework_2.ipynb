{
 "cells": [
  {
   "cell_type": "markdown",
   "source": [
    "Variant 10 Homework 2.1"
   ],
   "metadata": {
    "collapsed": false
   }
  },
  {
   "cell_type": "code",
   "execution_count": 1,
   "metadata": {
    "collapsed": true
   },
   "outputs": [
    {
     "name": "stdout",
     "output_type": "stream",
     "text": [
      "2503256543495377920\n"
     ]
    }
   ],
   "source": [
    "from math import pow\n",
    "from math import cos\n",
    "from math import log\n",
    "from decimal import Decimal\n",
    "\n",
    "def foo(z):\n",
    "    if z < -10:\n",
    "        return Decimal(pow(cos(z), 2))\n",
    "    elif -10 <= z < 36:\n",
    "        return Decimal(26 * pow((24 * z**3 + 29), 6) - 1)\n",
    "    elif z >= 36:\n",
    "        return Decimal(log(z)**2 + 1 + 10 * z**3)\n",
    "\n",
    "print(foo(3))"
   ]
  },
  {
   "cell_type": "markdown",
   "source": [
    "Variant 10 Homework 2.2:"
   ],
   "metadata": {
    "collapsed": false
   }
  },
  {
   "cell_type": "code",
   "execution_count": 2,
   "outputs": [
    {
     "name": "stdout",
     "output_type": "stream",
     "text": [
      "17610303.9517966471612453460693359375\n"
     ]
    }
   ],
   "source": [
    "from decimal import Decimal\n",
    "\n",
    "def foo(b, a, p):\n",
    "    f = 1\n",
    "    for c in range(1, a+1):\n",
    "        for j in range(1, b+1):\n",
    "            up = (j - p**3 - 71)**4\n",
    "            down = 28\n",
    "            left = -68 * c**5 - 19 * (p**2/77)**6\n",
    "            f += up/down + left\n",
    "    return Decimal(f)\n",
    "\n",
    "print(foo(6, 4, 0.64))\n"
   ],
   "metadata": {
    "collapsed": false
   }
  },
  {
   "cell_type": "markdown",
   "source": [
    "Variant 10 Homework 2.3"
   ],
   "metadata": {
    "collapsed": false
   }
  },
  {
   "cell_type": "code",
   "execution_count": 3,
   "outputs": [
    {
     "name": "stdout",
     "output_type": "stream",
     "text": [
      "-0.27983841620411887\n"
     ]
    }
   ],
   "source": [
    "def main(n):\n",
    "    if n == 0:\n",
    "        return 0.58\n",
    "    elif n >= 1:\n",
    "        return (main(n-1) + main(n-1)**3)**2 - 1\n",
    "\n",
    "print(main(4))"
   ],
   "metadata": {
    "collapsed": false
   }
  },
  {
   "cell_type": "markdown",
   "source": [
    "Variant 10 Homework 2.4"
   ],
   "metadata": {
    "collapsed": false
   }
  },
  {
   "cell_type": "code",
   "execution_count": 4,
   "outputs": [
    {
     "name": "stdout",
     "output_type": "stream",
     "text": [
      "2246063700.615122\n"
     ]
    }
   ],
   "source": [
    "from math import ceil\n",
    "\n",
    "\n",
    "def main(x, y):\n",
    "    res = 0\n",
    "    n = len(y)\n",
    "    for i in range(1, n + 1):\n",
    "        temp = ((x[n - ceil(i/4)])**2 - 39 * y[n - i])**6\n",
    "        res += temp\n",
    "    return res\n",
    "\n",
    "\n",
    "x = [-0.13, 0.54, 0.03, -0.34, 0.09, -0.44]\n",
    "y = [-0.05, 0.1, -0.15, -0.25, 0.93, -0.47]\n",
    "print(main(x, y))"
   ],
   "metadata": {
    "collapsed": false
   }
  },
  {
   "cell_type": "markdown",
   "source": [
    "Variant 14 Homework 2.1"
   ],
   "metadata": {
    "collapsed": false
   }
  },
  {
   "cell_type": "code",
   "execution_count": 5,
   "outputs": [
    {
     "name": "stdout",
     "output_type": "stream",
     "text": [
      "166464\n"
     ]
    }
   ],
   "source": [
    "from decimal import Decimal\n",
    "from math import cos\n",
    "\n",
    "\n",
    "def main(y):\n",
    "    if y < 42:\n",
    "        return (abs(12 * y)) ** 2\n",
    "    elif 42 <= y < 110:\n",
    "        return (1 - y ** 3 / 47 - 71 * y) - 85 * cos(y)\n",
    "    elif 110 <= y < 167:\n",
    "        return y ** 6\n",
    "    elif 167 <= y < 190:\n",
    "        return 69 * y ** 6 - 77 * y ** 4\n",
    "    elif y >= 190:\n",
    "        return 49 * (10 * y ** 3 - 51 * y ** 2 - 1) ** 4\n",
    "\n",
    "\n",
    "print(main(34))\n",
    "\n"
   ],
   "metadata": {
    "collapsed": false
   }
  },
  {
   "cell_type": "markdown",
   "source": [
    "Variant 14 Homework 2.2"
   ],
   "metadata": {
    "collapsed": false
   }
  },
  {
   "cell_type": "code",
   "execution_count": 6,
   "outputs": [
    {
     "name": "stdout",
     "output_type": "stream",
     "text": [
      "2727362593601279336929134091393867664361033781867358980140960967360108899848527194794500152348702076603969001991788640\n"
     ]
    }
   ],
   "source": [
    "from decimal import Decimal\n",
    "\n",
    "\n",
    "def main(n, m, b):\n",
    "    res = 0\n",
    "    for c in range(1, b + 1):\n",
    "        for k in range(1, m + 1):\n",
    "            temp = 1\n",
    "            for j in range(1, n + 1):\n",
    "                temp *= (83 * (k ** 3 + 17 * j) ** 7 - c ** 5)\n",
    "            res += temp\n",
    "    return Decimal(res)\n",
    "\n",
    "\n",
    "print(main(7, 4, 7))"
   ],
   "metadata": {
    "collapsed": false
   }
  },
  {
   "cell_type": "markdown",
   "source": [
    "Variant 14 Homework 2.3"
   ],
   "metadata": {
    "collapsed": false
   }
  },
  {
   "cell_type": "code",
   "execution_count": 7,
   "outputs": [
    {
     "name": "stdout",
     "output_type": "stream",
     "text": [
      "0.7575842676007918\n"
     ]
    }
   ],
   "source": [
    "def main(n):\n",
    "    if n == 0:\n",
    "        return -0.23\n",
    "    elif n >= 1:\n",
    "        i = 34 * ((main(n - 1) ** 2) / 49)\n",
    "        r = (main(n - 1) ** 3 - main(n - 1) ** 2 - main(n - 1)) ** 3\n",
    "        res = i + r + 1\n",
    "        return res\n",
    "\n",
    "\n",
    "print(main(8))"
   ],
   "metadata": {
    "collapsed": false
   }
  },
  {
   "cell_type": "markdown",
   "source": [
    "Variant 14 Homework 2.4"
   ],
   "metadata": {
    "collapsed": false
   }
  },
  {
   "cell_type": "code",
   "execution_count": 8,
   "outputs": [
    {
     "name": "stdout",
     "output_type": "stream",
     "text": [
      "18116906.545207042\n"
     ]
    }
   ],
   "source": [
    "from decimal import Decimal\n",
    "from math import ceil\n",
    "\n",
    "\n",
    "def main(x, z):\n",
    "    n = len(z) - 1\n",
    "    res = 0\n",
    "    for i in range(0, n + 1):\n",
    "        tmp = x[n - i]**2/46 - 88 * z[i//3]**3\n",
    "        tmp = tmp - x[n - i//4]\n",
    "        tmp = tmp ** 5 / 49\n",
    "        res += tmp\n",
    "    return res\n",
    "\n",
    "x = [0.79, -0.59, -0.55, 0.87]\n",
    "z = [-0.83, 0.09, -0.67, -0.37]\n",
    "print(main(x, z))"
   ],
   "metadata": {
    "collapsed": false
   }
  }
 ],
 "metadata": {
  "kernelspec": {
   "display_name": "Python 3",
   "language": "python",
   "name": "python3"
  },
  "language_info": {
   "codemirror_mode": {
    "name": "ipython",
    "version": 2
   },
   "file_extension": ".py",
   "mimetype": "text/x-python",
   "name": "python",
   "nbconvert_exporter": "python",
   "pygments_lexer": "ipython2",
   "version": "2.7.6"
  }
 },
 "nbformat": 4,
 "nbformat_minor": 0
}
