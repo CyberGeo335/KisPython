{
 "cells": [
  {
   "cell_type": "markdown",
   "source": [
    "1.1. (уровень сложности: простейший)\n",
    "\n",
    "В реализации Питона спрятано несколько «пасхальных яиц». С одним из них мы уже сталкивались, это import this.\n",
    "Есть (1) как-то связанное с гравитацией.\n",
    "И еще одно (2), для тех, кто ленится написать даже самую первую программу,\n",
    "а также (3) для любителей языков программирования с непохожим на Питон синтаксисом.\n",
    "А еще (4) есть сюрприз для тех, кто хотел бы сравнивать объекты, как в Паскале."
   ],
   "metadata": {
    "collapsed": false
   }
  },
  {
   "cell_type": "code",
   "execution_count": 45,
   "outputs": [
    {
     "data": {
      "text/plain": "'\\nthis - стих\\nantigravity - комикс про гравитацию\\n__hello__ - первая программа для ленивых\\nbraces - для любителей языков программирования с непохожим на Питон синтаксисом. Не даёт использовать скобки\\n'"
     },
     "execution_count": 45,
     "metadata": {},
     "output_type": "execute_result"
    }
   ],
   "source": [
    "\"\"\"\n",
    "this - стих\n",
    "antigravity - комикс про гравитацию\n",
    "__hello__ - первая программа для ленивых\n",
    "braces - для любителей языков программирования с непохожим на Питон синтаксисом. Не даёт использовать скобки\n",
    "\"\"\"\n",
    "#import this\n",
    "\n",
    "#import antigravity\n",
    "\n",
    "#from __future__ import braces\n",
    "\n",
    "#import __hello__\n"
   ],
   "metadata": {
    "collapsed": false
   }
  },
  {
   "cell_type": "markdown",
   "source": [
    "1.2. (уровень сложности: низкий)\n",
    "\n",
    "Запишите число 42 с помощью 10 различных способов, чем разнообразнее, тем лучше. Использовать литеральную запись, без арифметики и функций. В любом варианте должно соблюдаться == 42."
   ],
   "metadata": {
    "collapsed": false
   }
  },
  {
   "cell_type": "code",
   "execution_count": 46,
   "outputs": [
    {
     "name": "stdout",
     "output_type": "stream",
     "text": [
      "1 42\n",
      "2 42\n",
      "3 42\n"
     ]
    }
   ],
   "source": [
    "x = 42\n",
    "print('1', x)\n",
    "s = '42'\n",
    "print('2', s)\n",
    "s = '4' + '2'\n",
    "print('3', s)\n"
   ],
   "metadata": {
    "collapsed": false
   }
  },
  {
   "cell_type": "markdown",
   "source": [
    "1.3. (уровень сложности: низкий)\n",
    "\n",
    "Есть ли ограничения на диапазон чисел в Питоне? Как насчет чисел с плавающей запятой? Какое максимальное значение вы сумели получить до переполнения?"
   ],
   "metadata": {
    "collapsed": false
   }
  },
  {
   "cell_type": "code",
   "execution_count": 47,
   "outputs": [
    {
     "data": {
      "text/plain": "29"
     },
     "execution_count": 47,
     "metadata": {},
     "output_type": "execute_result"
    }
   ],
   "source": [
    "2^31"
   ],
   "metadata": {
    "collapsed": false
   }
  },
  {
   "cell_type": "markdown",
   "source": [
    "1.4. (уровень сложности: низкий)\n",
    "\n",
    "Найдите в документации встроенную (builtin) арифметическую функцию, которая возвращает не одно, а два значения разом."
   ],
   "metadata": {
    "collapsed": false
   }
  },
  {
   "cell_type": "code",
   "execution_count": 48,
   "outputs": [
    {
     "data": {
      "text/plain": "enumerate"
     },
     "execution_count": 48,
     "metadata": {},
     "output_type": "execute_result"
    }
   ],
   "source": [
    "\"\"\"\n",
    "В Python есть встроенная функция divmod(), которая возвращает два значения разом: целую часть от деления и остаток от деления.\n",
    "\"\"\"\n",
    "divmod(10, 3)\n",
    "# enumerate"
   ],
   "metadata": {
    "collapsed": false
   }
  },
  {
   "cell_type": "markdown",
   "source": [
    "1.5. (уровень сложности: низкий)\n",
    "\n",
    "C приведенным ниже циклом что-то не так. Как это исправить?\n",
    "\n",
    "Что на самом деле представляет собой 0.1 внутри интерпретатора? Можно ли увидеть его настоящее значение?\n",
    "a = 10\n",
    "while a != 0:\n",
    "    a -= 0.1"
   ],
   "metadata": {
    "collapsed": false
   }
  },
  {
   "cell_type": "code",
   "execution_count": 49,
   "outputs": [
    {
     "name": "stdout",
     "output_type": "stream",
     "text": [
      "<class 'float'>\n"
     ]
    },
    {
     "data": {
      "text/plain": "'\\n0.1 - число с плавующей точкой, поэтому при вычитании этого числа мы получим не 9.9, а число с плавующей точкой (из-за экспоненты)\\nчисло будет приближенно к нулю, но это не ноль\\n'"
     },
     "execution_count": 49,
     "metadata": {},
     "output_type": "execute_result"
    }
   ],
   "source": [
    "print(type(0.1))\n",
    "\"\"\"\n",
    "0.1 - число с плавующей точкой, поэтому при вычитании этого числа мы получим не 9.9, а число с плавующей точкой (из-за экспоненты)\n",
    "число будет приближенно к нулю, но это не ноль\n",
    "\"\"\""
   ],
   "metadata": {
    "collapsed": false
   }
  },
  {
   "cell_type": "markdown",
   "source": [
    "1.6. (уровень сложности: низкий)\n",
    "\n",
    "А вот совсем уже безобидный код. Циклов нет, но программа зависает. Почему?\n",
    "\n",
    "z = 1\n",
    "z <<= 40\n",
    "2 ** z"
   ],
   "metadata": {
    "collapsed": false
   }
  },
  {
   "cell_type": "code",
   "execution_count": 50,
   "outputs": [
    {
     "name": "stdout",
     "output_type": "stream",
     "text": [
      "1099511627776\n",
      "1099511627776\n"
     ]
    },
    {
     "data": {
      "text/plain": "'\\nПОБИТОВАЯ ОПЕРАЦИЯ СДВИГ В БОЛЬШУЮ СТОРОНУ\\n'"
     },
     "execution_count": 50,
     "metadata": {},
     "output_type": "execute_result"
    }
   ],
   "source": [
    "z = 1\n",
    "z <<= 40\n",
    "print(z)\n",
    "#z >>= 40\n",
    "print(z)\n",
    "\"\"\"\n",
    "ПОБИТОВАЯ ОПЕРАЦИЯ СДВИГ В БОЛЬШУЮ СТОРОНУ\n",
    "\"\"\""
   ],
   "metadata": {
    "collapsed": false
   }
  },
  {
   "cell_type": "markdown",
   "source": [
    "1.7. (уровень сложности: низкий)\n",
    "\n",
    "Да-да, и этот код зацикливается! А тут-то что не так?\n",
    "\n",
    "i = 0\n",
    "while i < 10:\n",
    "    print(i)\n",
    "    ++i"
   ],
   "metadata": {
    "collapsed": false
   }
  },
  {
   "cell_type": "code",
   "execution_count": 51,
   "outputs": [
    {
     "data": {
      "text/plain": "\"\\nв python нет i++, есть только i+=1\\nпрограмма срабатывает при ++i так как воспринимает как сложение\\n\\n++ is not an operator. It is two + operators. The + operator is the identity operator, which does nothing. (\\nClarification: the + and - unary operators only work on numbers,\\nbut I presume that you wouldn't expect a hypothetical ++ operator to work on strings.)\\n\""
     },
     "execution_count": 51,
     "metadata": {},
     "output_type": "execute_result"
    }
   ],
   "source": [
    "\"\"\"\n",
    "в python нет i++, есть только i+=1\n",
    "программа срабатывает при ++i так как воспринимает как сложение\n",
    "\n",
    "++ is not an operator. It is two + operators. The + operator is the identity operator, which does nothing. (\n",
    "Clarification: the + and - unary operators only work on numbers,\n",
    "but I presume that you wouldn't expect a hypothetical ++ operator to work on strings.)\n",
    "\"\"\""
   ],
   "metadata": {
    "collapsed": false
   }
  },
  {
   "cell_type": "markdown",
   "source": [
    "1.8. (уровень сложности: низкий)\n",
    "\n",
    "Что за странное выражение и странный результат?\n",
    "\n",
    "(True * 2 + False) * -True\n",
    "-2"
   ],
   "metadata": {
    "collapsed": false
   }
  },
  {
   "cell_type": "code",
   "execution_count": 52,
   "outputs": [
    {
     "name": "stdout",
     "output_type": "stream",
     "text": [
      "3\n",
      "1\n"
     ]
    }
   ],
   "source": [
    "\"\"\"\n",
    "True -> 1\n",
    "False -> 0\n",
    "1 * 3 + 0 -> 3\n",
    "0 * 3 + 1 -> 1\n",
    "\"\"\"\n",
    "print(True * 3 + False)\n",
    "print(False * 3 + True)"
   ],
   "metadata": {
    "collapsed": false
   }
  },
  {
   "cell_type": "markdown",
   "source": [
    "1.9. (уровень сложности: низкий)\n",
    "\n",
    "В Питоне можно использовать цепочки операций сравнения. Рассмотрите следующие примеры и попробуйте объяснить код:\n",
    "\n",
    "x = 5\n",
    "1 < x < 10\n",
    "True\n",
    "\n",
    "x = 5\n",
    "1 < (x < 10)\n",
    "False"
   ],
   "metadata": {
    "collapsed": false
   }
  },
  {
   "cell_type": "code",
   "execution_count": 53,
   "outputs": [
    {
     "data": {
      "text/plain": "True"
     },
     "execution_count": 53,
     "metadata": {},
     "output_type": "execute_result"
    }
   ],
   "source": [
    "\"\"\"\n",
    ">>> a = 1\n",
    ">>> b = 2\n",
    ">>> c = 3\n",
    ">>> a < b < c\n",
    "Когда Python видит два оператора сравнения подряд, как в a < b < c, он ведет себя так,\n",
    "как если бы было написано что-то вроде a < b and b < c, за исключением того, что b вычисляется только один раз.\n",
    "Такое поведение актуально, если, например, b является выражением, подобным вызову функции.\n",
    "\"\"\"\n",
    "x = 5\n",
    "1 < x < 10"
   ],
   "metadata": {
    "collapsed": false
   }
  },
  {
   "cell_type": "markdown",
   "source": [
    "К сообщениям об ошибках Питона нужно привыкать, в них нет ничего страшного. Давайте специально напишем некорректный код для того, чтобы получить каждое из указанных ниже сообщений об ошибках.\n",
    "\n",
    "2.1. (уровень сложности: простейший)\n",
    "\n",
    "SyntaxError: invalid syntax\n",
    "\n",
    "2.2. (уровень сложности: простейший)\n",
    "\n",
    "SyntaxError: cannot assign to literal\n",
    "\n",
    "2.3. (уровень сложности: простейший)\n",
    "\n",
    "NameError: name ... is not defined\n",
    "\n",
    "2.4. (уровень сложности: простейший)\n",
    "\n",
    "SyntaxError: unterminated string literal\n",
    "\n",
    "2.5. (уровень сложности: простейший)\n",
    "\n",
    "TypeError: unsupported operand type(s) for ...\n",
    "\n",
    "2.6. (уровень сложности: простейший)\n",
    "\n",
    "IndentationError: expected an indented block\n",
    "\n",
    "2.7. (уровень сложности: простейший)\n",
    "\n",
    "IndentationError: unindent does not match any outer indentation level\n",
    "\n",
    "2.8. (уровень сложности: простейший)\n",
    "\n",
    "ValueError: math domain error\n",
    "\n",
    "2.9. (уровень сложности: простейший)\n",
    "\n",
    "OverflowError: math range error"
   ],
   "metadata": {
    "collapsed": false
   }
  },
  {
   "cell_type": "code",
   "execution_count": 54,
   "outputs": [
    {
     "data": {
      "text/plain": "'\\n1) SyntaxError: invalid syntax - неправильный синтакс\\nexamp :\\nx = \"1\"1\\n2) SyntaxError: cannot assign to literal - нельзя присвоить литералу\\nexamp :\\n1 = \"1\"\\n3) NameError: name ... is not defined - необъявленная переменная\\nexamp :\\nc = a + b\\n4) SyntaxError: unterminated string literal\\nexamp :\\ns = \"LOL\\nprint(s)\\n5) TypeError: unsupported operand type(s) for ... - сложение разных типов данных\\nexamp:\\nx = 5\\ny = \"5\"\\nc = x + y\\n6) IndentationError: expected an indented block - проблема с отступом\\nexamp:\\nif (5 < 6):\\nprint(True)\\n7) IndentationError: unindent does not match any outer indentation level - лишний или 1 пропущенный пробел\\ndef foo():\\n   print(\"!!!\")\\n  return x\\n\\nfoo()\\n3 пробела !!!\\n8) ValueError: math domain error -  число, которое не поддерживается математической операцией\\nexamp:\\nimport math\\nx = math.sqrt(-1)\\n9) OverflowError: math range error - вылез за допустимые границы переменной\\nimport math\\nres = []\\nfor i in range(1000):\\n    res.append(math.exp(i))\\n'"
     },
     "execution_count": 54,
     "metadata": {},
     "output_type": "execute_result"
    }
   ],
   "source": [
    "\"\"\"\n",
    "1) SyntaxError: invalid syntax - неправильный синтакс\n",
    "examp :\n",
    "x = \"1\"1\n",
    "2) SyntaxError: cannot assign to literal - нельзя присвоить литералу\n",
    "examp :\n",
    "1 = \"1\"\n",
    "3) NameError: name ... is not defined - необъявленная переменная\n",
    "examp :\n",
    "c = a + b\n",
    "4) SyntaxError: unterminated string literal\n",
    "examp :\n",
    "s = \"LOL\n",
    "print(s)\n",
    "5) TypeError: unsupported operand type(s) for ... - сложение разных типов данных\n",
    "examp:\n",
    "x = 5\n",
    "y = \"5\"\n",
    "c = x + y\n",
    "6) IndentationError: expected an indented block - проблема с отступом\n",
    "examp:\n",
    "if (5 < 6):\n",
    "print(True)\n",
    "7) IndentationError: unindent does not match any outer indentation level - лишний или 1 пропущенный пробел\n",
    "def foo():\n",
    "   print(\"!!!\")\n",
    "  return x\n",
    "\n",
    "foo()\n",
    "3 пробела !!!\n",
    "8) ValueError: math domain error -  число, которое не поддерживается математической операцией\n",
    "examp:\n",
    "import math\n",
    "x = math.sqrt(-1)\n",
    "9) OverflowError: math range error - вылез за допустимые границы переменной\n",
    "import math\n",
    "res = []\n",
    "for i in range(1000):\n",
    "    res.append(math.exp(i))\n",
    "\"\"\""
   ],
   "metadata": {
    "collapsed": false
   }
  },
  {
   "cell_type": "code",
   "execution_count": 54,
   "outputs": [],
   "source": [],
   "metadata": {
    "collapsed": false
   }
  },
  {
   "cell_type": "markdown",
   "source": [
    "3.1. (уровень сложности: низкий)\n",
    "\n",
    "Умножение на 12. Используйте 4 сложения."
   ],
   "metadata": {
    "collapsed": false
   }
  },
  {
   "cell_type": "code",
   "execution_count": 45,
   "outputs": [
    {
     "name": "stdout",
     "output_type": "stream",
     "text": [
      "36\n"
     ]
    }
   ],
   "source": [
    "a = int(input())\n",
    "a += a\n",
    "c = a + a\n",
    "b = c + c\n",
    "b = b + c\n",
    "print(b)\n"
   ],
   "metadata": {
    "collapsed": false
   }
  },
  {
   "cell_type": "markdown",
   "source": [
    "3.2. (уровень сложности: низкий)\n",
    "\n",
    "Умножение на 16. Используйте 4 сложения."
   ],
   "metadata": {
    "collapsed": false
   }
  },
  {
   "cell_type": "code",
   "execution_count": null,
   "outputs": [],
   "source": [],
   "metadata": {
    "collapsed": false
   }
  },
  {
   "cell_type": "markdown",
   "source": [
    "3.3. (уровень сложности: средний)\n",
    "\n",
    "Умножение на 15. Используйте 3 сложения и 2 вычитания."
   ],
   "metadata": {
    "collapsed": false
   }
  },
  {
   "cell_type": "code",
   "execution_count": null,
   "outputs": [],
   "source": [
    "n = 1\n",
    "a = n + n\n",
    "b = a + a\n",
    "c = b + b\n",
    "d = c - n\n",
    "e = d - (-c)\n",
    "print(e)"
   ],
   "metadata": {
    "collapsed": false
   }
  },
  {
   "cell_type": "markdown",
   "source": [
    "3.4. (уровень сложности: низкий)\n",
    "\n",
    "Некто попытался реализовать «наивную» функцию умножения с помощью сложений. К сожалению, в коде много ошибок. Сможете ли вы их исправить?\n",
    "\n",
    "Добавьте к naive_mul автоматическое тестирование на случайных данных. Сравнивайте с встроенным умножением, используя конструкцию asse"
   ],
   "metadata": {
    "collapsed": false
   }
  },
  {
   "cell_type": "code",
   "execution_count": null,
   "outputs": [],
   "source": [
    "def naive_mul(x, y):\n",
    "    assert 0 < x < 100\n",
    "    assert 0 < y < 100\n",
    "    temp = 0\n",
    "    for i in range(0, y):\n",
    "        temp += x\n",
    "    print(temp)\n",
    "\n",
    "\n",
    "\n",
    "naive_mul(10, 15)"
   ],
   "metadata": {
    "collapsed": false
   }
  },
  {
   "cell_type": "markdown",
   "source": [
    "3.5. (уровень сложности: средний)\n",
    "\n",
    "Реализуйте функцию fast_mul в соответствии с алгоритмом двоичного умножения в столбик (без рекурсии!). Добавьте автоматическое тестирование, как в случае с naive_mul."
   ],
   "metadata": {
    "collapsed": false
   }
  },
  {
   "cell_type": "code",
   "execution_count": 95,
   "outputs": [
    {
     "name": "stdout",
     "output_type": "stream",
     "text": [
      "5 30\n",
      "2 60\n",
      "1 120\n",
      "120\n"
     ]
    }
   ],
   "source": [
    "import math\n",
    "def naive_mul(x, y):\n",
    "    assert 0 < x < 100\n",
    "    assert 0 < y < 100\n",
    "    while x > 1:\n",
    "        x /= 2\n",
    "        x = math.floor(x)\n",
    "        y *= 2\n",
    "        print(x, y)\n",
    "    print(y)\n",
    "\n",
    "\n",
    "x = 10\n",
    "y = 15\n",
    "naive_mul(x, y)"
   ],
   "metadata": {
    "collapsed": false
   }
  },
  {
   "cell_type": "markdown",
   "source": [
    "3.6. (уровень сложности: средний)\n",
    "\n",
    "Реализуйте аналогичную функцию fast_pow для возведения в степень. Решение необходимо получить только с помощью небольших модификаций предыдущего решения."
   ],
   "metadata": {
    "collapsed": false
   }
  },
  {
   "cell_type": "code",
   "execution_count": 58,
   "outputs": [
    {
     "name": "stdout",
     "output_type": "stream",
     "text": [
      "225\n"
     ]
    }
   ],
   "source": [
    "def fast_pow(x, y):\n",
    "    assert 0 < x < 100\n",
    "    assert 0 < y < 100\n",
    "    for i in range(1, y):\n",
    "        x*=x\n",
    "    print(x)\n",
    "x = 15\n",
    "y = 2\n",
    "fast_pow(x, y)"
   ],
   "metadata": {
    "collapsed": false
   }
  },
  {
   "cell_type": "markdown",
   "source": [
    "3.7. (уровень сложности: средний)\n",
    "\n",
    "Предположим, что стоит задача перемножить два 16-битных числа без знака. Однако в наличии у нас имеется только операция умножения 8-битных чисел. Оказывается, можно применить четыре 8-битных умножения, если разбить исходные числа на 8-битные половинки. Побитовые сдвиги умножениями не считаются.\n",
    "\n",
    "Выведите формулу для умножения «половинок» и реализуйте функцию mul16(x, y), используя приведенную ниже функцию mul_bits, которая имитирует умножение с ограниченной числом bits разрядностью аргументов."
   ],
   "metadata": {
    "collapsed": false
   }
  },
  {
   "cell_type": "code",
   "execution_count": null,
   "outputs": [],
   "source": [],
   "metadata": {
    "collapsed": false
   }
  },
  {
   "cell_type": "markdown",
   "source": [
    "3.8. (уровень сложности: средний)\n",
    "\n",
    "Четыре умножения из предыдущей задачи – не предел. Советский ученый Анатолий Алексеевич Карацуба в 1960 г. предложил формулу (а для общего случая – рекурсивный алгоритм), требующую лишь трех умножений. Выведите эту формулу с подсказками от преподавателя и реализуйте функцию mul16k(x, y).\n",
    "\n",
    "Иногда возникает необходимость в создании программы, которая в качестве результата выдаст другую программу. В этом нет ничего необычного, так устроен, к примеру, компилятор. Но если задача стоит узкоспециальная, то речь идет о создании генератора программ по заданным параметрам."
   ],
   "metadata": {
    "collapsed": false
   }
  },
  {
   "cell_type": "code",
   "execution_count": null,
   "outputs": [],
   "source": [],
   "metadata": {
    "collapsed": false
   }
  },
  {
   "cell_type": "markdown",
   "source": [
    "3.9. (уровень сложности: высокий)\n",
    "\n",
    "Реализуйте генератор программ fast_mul_gen(y) для задач 2.1-2.3. Воспользуйтесь ранее полученным кодом fast_mul. Ваша функция должна выдать текст функции f(x) (умножение на ранее заданный y), тело которой состоит из некоторого числа присваиваний. Для вывода функции используйте print. Добавьте автоматическое тестирование. Объясните, почему в общем случае у вас получается большее количество сложений, чем в задачах 2.1-2.3."
   ],
   "metadata": {
    "collapsed": false
   }
  },
  {
   "cell_type": "code",
   "execution_count": null,
   "outputs": [],
   "source": [],
   "metadata": {
    "collapsed": false
   }
  },
  {
   "cell_type": "markdown",
   "source": [
    "3.10. (уровень сложности: низкий)\n",
    "\n",
    "Реализуйте на основе fast_mul_gen генератор программ для возведения в степень."
   ],
   "metadata": {
    "collapsed": false
   }
  },
  {
   "cell_type": "code",
   "execution_count": null,
   "outputs": [],
   "source": [],
   "metadata": {
    "collapsed": false
   }
  },
  {
   "cell_type": "markdown",
   "source": [
    "4. Пиксельные шейдеры\n",
    "\n",
    "Шейдеры представляют собой небольшие программы, обычно предназначенные для исполнения на графической карте. Шейдеры могут работать параллельно и не запоминают свое состояние. Это просто функции, переводящие координаты экрана в цвет. Шейдеры широко используются для создания специальных эффектов, а также в играх. Обычно шейдеры программируют на C-подобных языках. Попробуем имитировать работу шейдеров прямо в Питоне!\n",
    "\n",
    "Итак, вся работа должна производится в теле функции func(x, y). Координаты заданы в диапазоне [0, 1). Функция возвращает три цветовых компонента, каждый из которых также находится в диапазоне [0, 1]. При решении задач старайтесь не использовать ветвлений и, тем более, циклов. Не забывайте, что шейдеры не имеют доступа к глобальным данным и поэтому даже модуль random использовать нельзя.\n",
    "\n",
    "Для решения задач понадобится приведенная ниже заготовка программы.\n",
    "\n",
    "import math\n",
    "import tkinter as tk\n",
    "\n",
    "\n",
    "def pyshader(func, w, h):\n",
    "    scr = bytearray((0, 0, 0) * w * h)\n",
    "    for y in range(h):\n",
    "        for x in range(w):\n",
    "            p = (w * y + x) * 3\n",
    "            scr[p:p + 3] = [max(min(int(c * 255), 255), 0)\n",
    "                            for c in func(x / w, y / h)]\n",
    "    return bytes('P6\\n%d %d\\n255\\n' % (w, h), 'ascii') + scr\n",
    "\n",
    "\n",
    "# Ваш код здесь:\n",
    "def func(x, y):\n",
    "    return x, y, 0\n",
    "\n",
    "\n",
    "label = tk.Label()\n",
    "img = tk.PhotoImage(data=pyshader(func, 256, 256)).zoom(2, 2)\n",
    "label.pack()\n",
    "label.config(image=img)\n",
    "tk.mainloop()"
   ],
   "metadata": {
    "collapsed": false
   }
  },
  {
   "cell_type": "markdown",
   "source": [
    "4.1. (уровень сложности: низкий)\n",
    "\n",
    "Изобразите свою версию знаменитого «Черного квадрата»."
   ],
   "metadata": {
    "collapsed": false
   }
  },
  {
   "cell_type": "code",
   "execution_count": 69,
   "outputs": [
    {
     "ename": "TclError",
     "evalue": "bad screen distance \"yellow\"",
     "output_type": "error",
     "traceback": [
      "\u001B[1;31m---------------------------------------------------------------------------\u001B[0m",
      "\u001B[1;31mTclError\u001B[0m                                  Traceback (most recent call last)",
      "Cell \u001B[1;32mIn [69], line 22\u001B[0m\n\u001B[0;32m     20\u001B[0m img \u001B[38;5;241m=\u001B[39m tk\u001B[38;5;241m.\u001B[39mPhotoImage(data\u001B[38;5;241m=\u001B[39mpyshader(func, \u001B[38;5;241m256\u001B[39m, \u001B[38;5;241m256\u001B[39m))\u001B[38;5;241m.\u001B[39mzoom(\u001B[38;5;241m2\u001B[39m, \u001B[38;5;241m2\u001B[39m)\n\u001B[0;32m     21\u001B[0m label\u001B[38;5;241m.\u001B[39mpack()\n\u001B[1;32m---> 22\u001B[0m canvas \u001B[38;5;241m=\u001B[39m \u001B[43mtk\u001B[49m\u001B[38;5;241;43m.\u001B[39;49m\u001B[43mCanvas\u001B[49m\u001B[43m(\u001B[49m\u001B[43mbd\u001B[49m\u001B[38;5;241;43m=\u001B[39;49m\u001B[38;5;124;43m\"\u001B[39;49m\u001B[38;5;124;43myellow\u001B[39;49m\u001B[38;5;124;43m\"\u001B[39;49m\u001B[43m,\u001B[49m\u001B[43m \u001B[49m\u001B[43mwidth\u001B[49m\u001B[38;5;241;43m=\u001B[39;49m\u001B[38;5;241;43m250\u001B[39;49m\u001B[43m,\u001B[49m\u001B[43m \u001B[49m\u001B[43mheight\u001B[49m\u001B[38;5;241;43m=\u001B[39;49m\u001B[38;5;241;43m250\u001B[39;49m\u001B[43m)\u001B[49m\n\u001B[0;32m     23\u001B[0m label\u001B[38;5;241m.\u001B[39mconfig(image\u001B[38;5;241m=\u001B[39mimg)\n\u001B[0;32m     24\u001B[0m tk\u001B[38;5;241m.\u001B[39mmainloop()\n",
      "File \u001B[1;32mD:\\MORE_AND_IDE\\AllForPython\\Language\\lib\\tkinter\\__init__.py:2717\u001B[0m, in \u001B[0;36mCanvas.__init__\u001B[1;34m(self, master, cnf, **kw)\u001B[0m\n\u001B[0;32m   2707\u001B[0m \u001B[38;5;28;01mdef\u001B[39;00m \u001B[38;5;21m__init__\u001B[39m(\u001B[38;5;28mself\u001B[39m, master\u001B[38;5;241m=\u001B[39m\u001B[38;5;28;01mNone\u001B[39;00m, cnf\u001B[38;5;241m=\u001B[39m{}, \u001B[38;5;241m*\u001B[39m\u001B[38;5;241m*\u001B[39mkw):\n\u001B[0;32m   2708\u001B[0m     \u001B[38;5;124;03m\"\"\"Construct a canvas widget with the parent MASTER.\u001B[39;00m\n\u001B[0;32m   2709\u001B[0m \n\u001B[0;32m   2710\u001B[0m \u001B[38;5;124;03m    Valid resource names: background, bd, bg, borderwidth, closeenough,\u001B[39;00m\n\u001B[1;32m   (...)\u001B[0m\n\u001B[0;32m   2715\u001B[0m \u001B[38;5;124;03m    state, takefocus, width, xscrollcommand, xscrollincrement,\u001B[39;00m\n\u001B[0;32m   2716\u001B[0m \u001B[38;5;124;03m    yscrollcommand, yscrollincrement.\"\"\"\u001B[39;00m\n\u001B[1;32m-> 2717\u001B[0m     \u001B[43mWidget\u001B[49m\u001B[38;5;241;43m.\u001B[39;49m\u001B[38;5;21;43m__init__\u001B[39;49m\u001B[43m(\u001B[49m\u001B[38;5;28;43mself\u001B[39;49m\u001B[43m,\u001B[49m\u001B[43m \u001B[49m\u001B[43mmaster\u001B[49m\u001B[43m,\u001B[49m\u001B[43m \u001B[49m\u001B[38;5;124;43m'\u001B[39;49m\u001B[38;5;124;43mcanvas\u001B[39;49m\u001B[38;5;124;43m'\u001B[39;49m\u001B[43m,\u001B[49m\u001B[43m \u001B[49m\u001B[43mcnf\u001B[49m\u001B[43m,\u001B[49m\u001B[43m \u001B[49m\u001B[43mkw\u001B[49m\u001B[43m)\u001B[49m\n",
      "File \u001B[1;32mD:\\MORE_AND_IDE\\AllForPython\\Language\\lib\\tkinter\\__init__.py:2601\u001B[0m, in \u001B[0;36mBaseWidget.__init__\u001B[1;34m(self, master, widgetName, cnf, kw, extra)\u001B[0m\n\u001B[0;32m   2599\u001B[0m \u001B[38;5;28;01mfor\u001B[39;00m k, v \u001B[38;5;129;01min\u001B[39;00m classes:\n\u001B[0;32m   2600\u001B[0m     \u001B[38;5;28;01mdel\u001B[39;00m cnf[k]\n\u001B[1;32m-> 2601\u001B[0m \u001B[38;5;28;43mself\u001B[39;49m\u001B[38;5;241;43m.\u001B[39;49m\u001B[43mtk\u001B[49m\u001B[38;5;241;43m.\u001B[39;49m\u001B[43mcall\u001B[49m\u001B[43m(\u001B[49m\n\u001B[0;32m   2602\u001B[0m \u001B[43m    \u001B[49m\u001B[43m(\u001B[49m\u001B[43mwidgetName\u001B[49m\u001B[43m,\u001B[49m\u001B[43m \u001B[49m\u001B[38;5;28;43mself\u001B[39;49m\u001B[38;5;241;43m.\u001B[39;49m\u001B[43m_w\u001B[49m\u001B[43m)\u001B[49m\u001B[43m \u001B[49m\u001B[38;5;241;43m+\u001B[39;49m\u001B[43m \u001B[49m\u001B[43mextra\u001B[49m\u001B[43m \u001B[49m\u001B[38;5;241;43m+\u001B[39;49m\u001B[43m \u001B[49m\u001B[38;5;28;43mself\u001B[39;49m\u001B[38;5;241;43m.\u001B[39;49m\u001B[43m_options\u001B[49m\u001B[43m(\u001B[49m\u001B[43mcnf\u001B[49m\u001B[43m)\u001B[49m\u001B[43m)\u001B[49m\n\u001B[0;32m   2603\u001B[0m \u001B[38;5;28;01mfor\u001B[39;00m k, v \u001B[38;5;129;01min\u001B[39;00m classes:\n\u001B[0;32m   2604\u001B[0m     k\u001B[38;5;241m.\u001B[39mconfigure(\u001B[38;5;28mself\u001B[39m, v)\n",
      "\u001B[1;31mTclError\u001B[0m: bad screen distance \"yellow\""
     ]
    }
   ],
   "source": [
    "from tkinter import *\n",
    "\n",
    "root = Tk()\n",
    "root.title(\"MALEVICH\")\n",
    "root.geometry(\"300x300\")\n",
    "\n",
    "canvas = Canvas(bg=\"white\", width=900, height=900)\n",
    "canvas.create_rectangle(20,20,280,280, fill=\"black\", outline = \"black\")\n",
    "canvas.pack(anchor=CENTER, expand=1)\n",
    "\n",
    "root.mainloop()"
   ],
   "metadata": {
    "collapsed": false
   }
  },
  {
   "cell_type": "code",
   "execution_count": 1,
   "outputs": [
    {
     "ename": "KeyboardInterrupt",
     "evalue": "",
     "output_type": "error",
     "traceback": [
      "\u001B[1;31m---------------------------------------------------------------------------\u001B[0m",
      "\u001B[1;31mKeyboardInterrupt\u001B[0m                         Traceback (most recent call last)",
      "Cell \u001B[1;32mIn [1], line 11\u001B[0m\n\u001B[0;32m      8\u001B[0m canvas\u001B[38;5;241m.\u001B[39mcreate_rectangle(\u001B[38;5;241m20\u001B[39m,\u001B[38;5;241m20\u001B[39m,\u001B[38;5;241m280\u001B[39m,\u001B[38;5;241m280\u001B[39m, fill\u001B[38;5;241m=\u001B[39m\u001B[38;5;124m\"\u001B[39m\u001B[38;5;124mblack\u001B[39m\u001B[38;5;124m\"\u001B[39m, outline \u001B[38;5;241m=\u001B[39m \u001B[38;5;124m\"\u001B[39m\u001B[38;5;124mblack\u001B[39m\u001B[38;5;124m\"\u001B[39m)\n\u001B[0;32m      9\u001B[0m canvas\u001B[38;5;241m.\u001B[39mpack(anchor\u001B[38;5;241m=\u001B[39mCENTER, expand\u001B[38;5;241m=\u001B[39m\u001B[38;5;241m1\u001B[39m)\n\u001B[1;32m---> 11\u001B[0m \u001B[43mroot\u001B[49m\u001B[38;5;241;43m.\u001B[39;49m\u001B[43mmainloop\u001B[49m\u001B[43m(\u001B[49m\u001B[43m)\u001B[49m\n",
      "File \u001B[1;32mD:\\MORE_AND_IDE\\AllForPython\\Language\\lib\\tkinter\\__init__.py:1458\u001B[0m, in \u001B[0;36mMisc.mainloop\u001B[1;34m(self, n)\u001B[0m\n\u001B[0;32m   1456\u001B[0m \u001B[38;5;28;01mdef\u001B[39;00m \u001B[38;5;21mmainloop\u001B[39m(\u001B[38;5;28mself\u001B[39m, n\u001B[38;5;241m=\u001B[39m\u001B[38;5;241m0\u001B[39m):\n\u001B[0;32m   1457\u001B[0m     \u001B[38;5;124;03m\"\"\"Call the mainloop of Tk.\"\"\"\u001B[39;00m\n\u001B[1;32m-> 1458\u001B[0m     \u001B[38;5;28;43mself\u001B[39;49m\u001B[38;5;241;43m.\u001B[39;49m\u001B[43mtk\u001B[49m\u001B[38;5;241;43m.\u001B[39;49m\u001B[43mmainloop\u001B[49m\u001B[43m(\u001B[49m\u001B[43mn\u001B[49m\u001B[43m)\u001B[49m\n",
      "\u001B[1;31mKeyboardInterrupt\u001B[0m: "
     ]
    }
   ],
   "source": [
    "from tkinter import *\n",
    "\n",
    "root = Tk()\n",
    "root.title(\"MALEVICH\")\n",
    "root.geometry(\"300x300\")\n",
    "\n",
    "canvas = Canvas(bg=\"white\", width=900, height=900)\n",
    "canvas.create_rectangle(20,20,280,280, fill=\"black\", outline = \"black\")\n",
    "canvas.pack(anchor=CENTER, expand=1)\n",
    "\n",
    "root.mainloop()"
   ],
   "metadata": {
    "collapsed": false
   }
  },
  {
   "cell_type": "code",
   "execution_count": 12,
   "outputs": [],
   "source": [
    "from tkinter import *\n",
    "\n",
    "root = Tk()\n",
    "root.title(\"METANIT.COM\")\n",
    "root.geometry(\"300x250\")\n",
    "\n",
    "canvas = Canvas(bg=\"white\", width=250, height=200)\n",
    "canvas.pack(anchor=CENTER, expand=1)\n",
    "\n",
    "canvas.create_arc((10, 10), (200, 200), fill=\"#80CBC4\", outline=\"#004D40\")\n",
    "\n",
    "root.mainloop()"
   ],
   "metadata": {
    "collapsed": false
   }
  },
  {
   "cell_type": "code",
   "execution_count": 44,
   "outputs": [],
   "source": [
    "from tkinter import *\n",
    "\n",
    "root = Tk()\n",
    "root.title(\"METANIT.COM\")\n",
    "root.geometry(\"500x500\")\n",
    "\n",
    "canvas = Canvas(bg=\"black\", width=450, height=450)\n",
    "canvas.pack(anchor=CENTER, expand=1)\n",
    "\n",
    "canvas.create_oval(20, 20, 300, 300, fill=\"yellow\", outline=\"yellow\")\n",
    "\n",
    "canvas.create_oval(250, 100, 190, 60, fill=\"black\", outline=\"black\")\n",
    "\n",
    "points = (\n",
    "    (150, 150),\n",
    "    (250, 290),\n",
    "    (450, 150), # правый\n",
    ")\n",
    "canvas.create_polygon(*points, fill=\"black\", outline=\"black\")\n",
    "root.mainloop()"
   ],
   "metadata": {
    "collapsed": false
   }
  }
 ],
 "metadata": {
  "kernelspec": {
   "display_name": "Python 3",
   "language": "python",
   "name": "python3"
  },
  "language_info": {
   "codemirror_mode": {
    "name": "ipython",
    "version": 2
   },
   "file_extension": ".py",
   "mimetype": "text/x-python",
   "name": "python",
   "nbconvert_exporter": "python",
   "pygments_lexer": "ipython2",
   "version": "2.7.6"
  }
 },
 "nbformat": 4,
 "nbformat_minor": 0
}
