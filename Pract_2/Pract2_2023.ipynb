{
 "cells": [
  {
   "cell_type": "markdown",
   "source": [
    "Задание 1:\n",
    "\n",
    "Напишите программы-однострочники для следующих задач.\n",
    "Начните с наивных решений и постепенно двигайтесь в сторону решений кратких и изящных.\n",
    "Старайтесь попутно создавать автоматические тесты на случайных входных данных.\n",
    "1) Преобразовать элементы списка s из строковой в числовую форму.\n",
    "2) Подсчитать количество различных элементов в последовательности s.\n",
    "3) Обратить последовательность s без использования функций.\n",
    "4) Выдать список индексов, на которых найден элемент x в последовательности s.\n",
    "Сложить элементы списка s с четными индексами.\n",
    "Найти строку максимальной длины в списке строк s."
   ],
   "metadata": {
    "collapsed": false
   }
  },
  {
   "cell_type": "markdown",
   "source": [],
   "metadata": {
    "collapsed": false
   }
  },
  {
   "cell_type": "code",
   "execution_count": 13,
   "metadata": {
    "collapsed": true
   },
   "outputs": [
    {
     "name": "stdout",
     "output_type": "stream",
     "text": [
      "[1, 2, 3]\n"
     ]
    }
   ],
   "source": [
    "s = ['1', '2', '3']\n",
    "s = [int(a) for a in s]\n",
    "print(s)"
   ]
  },
  {
   "cell_type": "code",
   "execution_count": 15,
   "outputs": [
    {
     "name": "stdout",
     "output_type": "stream",
     "text": [
      "3\n"
     ]
    }
   ],
   "source": [
    "s = [4,5,5,6]\n",
    "n = len(set(s))\n",
    "print(n)"
   ],
   "metadata": {
    "collapsed": false
   }
  },
  {
   "cell_type": "markdown",
   "source": [
    "Задача 2\n",
    "\n",
    "В следующем фрагменте по индексу `i` выбирается одна из трех строк:\n",
    "\n",
    "i = 0\n",
    "['much','code','wow'][i] # 24 символа\n",
    "\n",
    "Сократите код в строке №2 до 19 символов без использования функций."
   ],
   "metadata": {
    "collapsed": false
   }
  },
  {
   "cell_type": "code",
   "execution_count": 17,
   "outputs": [
    {
     "name": "stdout",
     "output_type": "stream",
     "text": [
      "much\n"
     ]
    }
   ],
   "source": [
    "i = 0\n",
    "arr = [\n",
    "    'much','code','wow'\n",
    "]\n",
    "print(arr[0])"
   ],
   "metadata": {
    "collapsed": false
   }
  },
  {
   "cell_type": "markdown",
   "source": [
    "Задача 4\n",
    "\n",
    "Объясните, что за странные вещи происходят в этом коде:\n",
    "\n",
    "[0xfor _ in 'abc']"
   ],
   "metadata": {
    "collapsed": false
   }
  },
  {
   "cell_type": "code",
   "execution_count": 24,
   "outputs": [
    {
     "name": "stdout",
     "output_type": "stream",
     "text": [
      "[15]\n",
      "15\n"
     ]
    }
   ],
   "source": [
    "print([0xf or _ in 'abc'])\n",
    "print(int(0xf))"
   ],
   "metadata": {
    "collapsed": false
   }
  },
  {
   "cell_type": "code",
   "execution_count": null,
   "outputs": [],
   "source": [],
   "metadata": {
    "collapsed": false
   }
  },
  {
   "cell_type": "markdown",
   "source": [
    "Задача № 5:\n"
   ],
   "metadata": {
    "collapsed": false
   }
  },
  {
   "cell_type": "code",
   "execution_count": 34,
   "outputs": [
    {
     "name": "stdout",
     "output_type": "stream",
     "text": [
      "В то же время совокупность сквозных технологий повышает вероятность нормативного регулирования нежелательных последствий.\n"
     ]
    }
   ],
   "source": [
    "import random\n",
    "\n",
    "arr1 = ['Коллеги','В то же время', 'Однако', 'Тем не менее', 'Следовательно', 'Соответственно','Вместе с тем','С другой стороны']\n",
    "arr2 = ['парадигма цифровой экономики', 'контекст цифровой трансформации', 'диджитализация бизнес-процессов', 'прагматичный подход к цифровым платформам', 'совокупность сквозных технологий', 'Соответственно,', 'Вместе с тем']\n",
    "arr3 = ['открывает новые возможности для', 'выдвигает новые требования', 'несёт в себе риски', 'расширяет горизонты', 'заставляет искать варианты', 'программа прорывных исследований', 'ускорение блокчейн-транзакций', 'повышает вероятность']\n",
    "arr4 = ['дальнейшего углубления', 'бюджетного финансирования', 'синергетического эффекта', 'компрометации конфиденциальных', 'универсальной коммодитизации', 'не оставляет шанса для', 'несанкционированной кастомизации', 'нормативного регулирования']\n",
    "arr5 = ['знаний и компетенций.', 'непроверенных гипотез.', 'волатильных активов', 'опасных экспериментов.', 'государственно-частных партнёрств.', 'цифровых следов граждан.', 'нежелательных последствий.']\n",
    "len1 = random.randint(0, 7)\n",
    "len2 = random.randint(0, 7)\n",
    "len3 = random.randint(0, 7)\n",
    "len4 = random.randint(0, 7)\n",
    "len5 = random.randint(0, 7)\n",
    "print(arr1[len1], arr2[len2], arr3[len3], arr4[len4], arr5[len5])"
   ],
   "metadata": {
    "collapsed": false
   }
  },
  {
   "cell_type": "markdown",
   "source": [
    "Задание 8:\n",
    "Данил А. Фуций\n",
    "Роман Д. Фецачли\n",
    "Лев Ц. Шолодяк\n",
    "Ильдар Ц. Тачасяк\n",
    "Николай Р. Мугодич\n",
    "Данила И. Табян\n",
    "Семен Л. Черев\n",
    "Самир Д. Тифомский\n",
    "Тамерлан О. Гузянц\n",
    "Святослав И. Набян\n",
    "Герман З. Семидяк\n",
    "Тамерлан К. Башко\n",
    "Назар Ш. Кунарий\n",
    "Степан Е. Гидский\n",
    "Леонид Н. Сабин\n",
    "..."
   ],
   "metadata": {
    "collapsed": false
   }
  },
  {
   "cell_type": "code",
   "execution_count": 41,
   "outputs": [
    {
     "name": "stdout",
     "output_type": "stream",
     "text": [
      "Данила Р. Башодич\n"
     ]
    }
   ],
   "source": [
    "from random import randint\n",
    "Name = ['Данил', 'Роман', 'Лев', 'Ильдар', 'Николай', 'Данила']\n",
    "F = ['A.', 'Д.', 'Ц.', 'Р.', 'И.', 'Н.']\n",
    "O1 = ['Фуц', 'Шоло', 'Муг', 'Кун', 'Саб', 'Баш']\n",
    "O2 = ['ий', 'дяк', 'арий', 'ин', 'ко', 'одич']\n",
    "len1 = random.randint(0, 5)\n",
    "len2 = random.randint(0, 5)\n",
    "len3 = random.randint(0, 5)\n",
    "len4 = random.randint(0, 5)\n",
    "print(Name[len1], F[len2], O1[len3] + O2[len3])"
   ],
   "metadata": {
    "collapsed": false
   }
  },
  {
   "cell_type": "markdown",
   "source": [
    "Задание 9:\n",
    "a = 1\n",
    "b = 1\n",
    "c = 300000 # проверено в Python 3.10\n",
    "d = 300000\n",
    "print(a is b, c is d)"
   ],
   "metadata": {
    "collapsed": false
   }
  },
  {
   "cell_type": "code",
   "execution_count": 42,
   "outputs": [
    {
     "name": "stdout",
     "output_type": "stream",
     "text": [
      "True False\n"
     ]
    }
   ],
   "source": [
    "a = 1\n",
    "b = 1\n",
    "c = 300000 # проверено в Python 3.10\n",
    "d = 300000\n",
    "print(a is b, c is d)"
   ],
   "metadata": {
    "collapsed": false
   }
  },
  {
   "cell_type": "code",
   "execution_count": 44,
   "outputs": [
    {
     "name": "stdout",
     "output_type": "stream",
     "text": [
      "py\n",
      "True True False\n"
     ]
    }
   ],
   "source": [
    "a, b = 'py', 'py'\n",
    "c = ''.join(['p', 'y'])\n",
    "print(c)\n",
    "print(a is b, a == c, a is c)"
   ],
   "metadata": {
    "collapsed": false
   }
  },
  {
   "cell_type": "code",
   "execution_count": 55,
   "outputs": [
    {
     "name": "stdout",
     "output_type": "stream",
     "text": [
      "1 2 3\n",
      "1**,!!!2\n"
     ]
    }
   ],
   "source": [
    "import sys\n",
    "\n",
    "def MyPrint(*args, sep=' ', end='\\n'):\n",
    "    sys.stdout.write(sep.join([str(i) for i in args]) + end)\n",
    "\n",
    "MyPrint(1,2,3)\n",
    "MyPrint(1,2, sep=\"**,!!!\")"
   ],
   "metadata": {
    "collapsed": false
   }
  },
  {
   "cell_type": "code",
   "execution_count": 59,
   "outputs": [],
   "source": [
    "def foo(*args,x,y):\n",
    "    pass\n",
    "foo(x = 1,  y = 1)"
   ],
   "metadata": {
    "collapsed": false
   }
  },
  {
   "cell_type": "code",
   "execution_count": 1,
   "outputs": [
    {
     "name": "stdout",
     "output_type": "stream",
     "text": [
      "Input text : banana$\n",
      "Burrows - Wheeler Transform : annb$aa\n"
     ]
    }
   ],
   "source": [
    "def cmp_func(x, y):\n",
    "    return (x[1] > y[1]) - (x[1] < y[1])\n",
    "\n",
    "def compute_suffix_array(input_text, len_text):\n",
    "    # Array of structures to store rotations and their indexes\n",
    "    suff = [(i, input_text[i:]) for i in range(len_text)]\n",
    "\n",
    "    # Sorts rotations using comparison function defined above\n",
    "    suff.sort(key=lambda x: x[1])\n",
    "\n",
    "    # Stores the indexes of sorted rotations\n",
    "    suffix_arr = [i for i, _ in suff]\n",
    "\n",
    "    # Returns the computed suffix array\n",
    "    return suffix_arr\n",
    "\n",
    "# Takes suffix array and its size as arguments\n",
    "# and returns the Burrows-Wheeler Transform of given text\n",
    "\n",
    "\n",
    "def find_last_char(input_text, suffix_arr, n):\n",
    "    # Iterates over the suffix array to\n",
    "    # find the last char of each cyclic rotation\n",
    "    bwt_arr = \"\"\n",
    "    for i in range(n):\n",
    "        # Computes the last char which is given by\n",
    "        # input_text[(suffix_arr[i] + n - 1) % n]\n",
    "        j = suffix_arr[i] - 1\n",
    "        if j < 0:\n",
    "            j = j + n\n",
    "        bwt_arr += input_text[j]\n",
    "\n",
    "    # Returns the computed Burrows-Wheeler Transform\n",
    "    return bwt_arr\n",
    "\n",
    "\n",
    "# Driver program to test functions above\n",
    "input_text = \"banana$\"\n",
    "len_text = len(input_text)\n",
    "\n",
    "# Computes the suffix array of our text\n",
    "suffix_arr = compute_suffix_array(input_text, len_text)\n",
    "\n",
    "# Adds to the output array the last char of each rotation\n",
    "bwt_arr = find_last_char(input_text, suffix_arr, len_text)\n",
    "\n",
    "print(\"Input text :\", input_text)\n",
    "print(\"Burrows - Wheeler Transform :\", bwt_arr)\n",
    "\n",
    "# This code is contributed by Susobhan Akhuli"
   ],
   "metadata": {
    "collapsed": false
   }
  },
  {
   "cell_type": "code",
   "execution_count": null,
   "outputs": [],
   "source": [],
   "metadata": {
    "collapsed": false
   }
  }
 ],
 "metadata": {
  "kernelspec": {
   "display_name": "Python 3",
   "language": "python",
   "name": "python3"
  },
  "language_info": {
   "codemirror_mode": {
    "name": "ipython",
    "version": 2
   },
   "file_extension": ".py",
   "mimetype": "text/x-python",
   "name": "python",
   "nbconvert_exporter": "python",
   "pygments_lexer": "ipython2",
   "version": "2.7.6"
  }
 },
 "nbformat": 4,
 "nbformat_minor": 0
}
