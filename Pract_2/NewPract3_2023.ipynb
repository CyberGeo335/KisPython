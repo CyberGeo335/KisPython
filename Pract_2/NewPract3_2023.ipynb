{
 "cells": [
  {
   "cell_type": "markdown",
   "source": [
    "# Раздел 1"
   ],
   "metadata": {
    "collapsed": false
   }
  },
  {
   "cell_type": "markdown",
   "source": [
    "Если вы рисуете прямую линию на плоскости, плоскость делится на две области. Например, если вы проведете две прямые линии параллельно, вы получите три области, а если вы проведете одну к другой вертикально, вы получите 4 области.\n",
    "Напишите программу на Python, чтобы создать максимальное количество областей, полученных путем рисования n заданных прямых линий.\n",
    "\n",
    "Вход:\n",
    "(1 ≤ n ≤ 10 000)\n",
    "Введите количество прямых линий (o для выхода):\n",
    "5\n",
    "Количество регионов:\n",
    "16"
   ],
   "metadata": {
    "collapsed": false
   }
  },
  {
   "cell_type": "code",
   "execution_count": 17,
   "metadata": {
    "collapsed": true
   },
   "outputs": [
    {
     "name": "stdout",
     "output_type": "stream",
     "text": [
      "Input number of straight lines (o to exit): \n",
      "Number of regions:\n",
      "12247\n"
     ]
    }
   ],
   "source": [
    "\n",
    "print(\"Input number of straight lines (o to exit): \")\n",
    "n=int(input())\n",
    "if 1 <= n <= 10000:\n",
    "    print(\"Number of regions:\")\n",
    "    print((n*n+n+2)//2)"
   ]
  },
  {
   "cell_type": "markdown",
   "source": [],
   "metadata": {
    "collapsed": false
   }
  },
  {
   "cell_type": "markdown",
   "source": [
    "КАМЕНЬ НОЖНИЦЫ БУМАГА"
   ],
   "metadata": {
    "collapsed": false
   }
  },
  {
   "cell_type": "code",
   "execution_count": 18,
   "outputs": [],
   "source": [
    "arr = {\n",
    "    \"к\": \"н\",\n",
    "    \"н\": \"б\",\n",
    "    \"б\": \"к\"\n",
    "}\n",
    "\n",
    "b = input(\"Игрок 1: \")\n",
    "c = input(\"Игрок 2: \")\n",
    "\n",
    "if b == c:\n",
    "    print(\"ничья\")\n",
    "for i, j in arr.items():\n",
    "    if b == arr and c == j:\n",
    "        print(\"Победил Игрок 1\")\n",
    "    elif c == i and b == j:\n",
    "        print(\"Победил Игрок 2\")"
   ],
   "metadata": {
    "collapsed": false
   }
  },
  {
   "cell_type": "markdown",
   "source": [
    "Однострочники\n",
    "Напишите программы-однострочники для следующих задач. Начните с наивных решений и постепенно двигайтесь в сторону решений кратких и изящных. Старайтесь попутно создавать автоматические тесты на случайных входных данных.\n",
    "\n",
    "Определитесь, в каких случаях решение-однострочник является предпочтительным, а в каких – нет.\n",
    "\n",
    "3.7. (уровень сложности: низкий)\n",
    "\n",
    "Проверить, относится ли число к числам харшад (делящиеся нацело на сумму своих цифр).\n",
    "\n",
    "3.8. (уровень сложности: низкий)\n",
    "\n",
    "Сгенерировать случайную текстовую строку с заданным максимальным размером.\n",
    "\n",
    "3.9. (уровень сложности: средний) + 1 балл.\n",
    "\n",
    "Реализовать функцию-однострочник для RLE-сжатия. Пример работы:"
   ],
   "metadata": {
    "collapsed": false
   }
  },
  {
   "cell_type": "markdown",
   "source": [
    "3.7. (уровень сложности: низкий)\n",
    "Проверить, относится ли число к числам харшад (делящиеся нацело на сумму своих цифр)."
   ],
   "metadata": {
    "collapsed": false
   }
  },
  {
   "cell_type": "code",
   "execution_count": 19,
   "outputs": [
    {
     "name": "stdout",
     "output_type": "stream",
     "text": [
      "0\n"
     ]
    }
   ],
   "source": [
    "num = 156; rem = sum = 0; n = num;\n",
    "while(num > 0): rem = num%10; sum = sum + rem; num = num//10;\n",
    "print(n % sum)"
   ],
   "metadata": {
    "collapsed": false
   }
  },
  {
   "cell_type": "markdown",
   "source": [
    "3.8. (уровень сложности: низкий)\n",
    "\n",
    "Сгенерировать случайную текстовую строку с заданным максимальным размером."
   ],
   "metadata": {
    "collapsed": false
   }
  },
  {
   "cell_type": "code",
   "execution_count": 20,
   "outputs": [
    {
     "name": "stdout",
     "output_type": "stream",
     "text": [
      "dgyeizle\n"
     ]
    }
   ],
   "source": [
    "import random\n",
    "import string\n",
    "print(''.join(random.choice(string.ascii_lowercase) for i in range(8)))"
   ],
   "metadata": {
    "collapsed": false
   }
  },
  {
   "cell_type": "markdown",
   "source": [
    "3.9. (уровень сложности: средний) + 1 балл.\n",
    "\n",
    "Реализовать функцию-однострочник для RLE-сжатия. Пример работы:"
   ],
   "metadata": {
    "collapsed": false
   }
  },
  {
   "cell_type": "code",
   "execution_count": 21,
   "outputs": [
    {
     "name": "stdout",
     "output_type": "stream",
     "text": [
      "[('A', 4), ('B', 6), ('C', 4), ('c', 1), ('g', 2), ('h', 2)]\n"
     ]
    }
   ],
   "source": [
    "def RLE(string): return [(symb, string.count(symb)) for symb in sorted(list(set(i for i in string)))]\n",
    "print(RLE(\"AAAABBBBBBCCCghchgC\"))"
   ],
   "metadata": {
    "collapsed": false
   }
  },
  {
   "cell_type": "markdown",
   "source": [],
   "metadata": {
    "collapsed": false
   }
  },
  {
   "cell_type": "code",
   "execution_count": 22,
   "outputs": [],
   "source": [
    "# import turtle package\n",
    "import turtle\n",
    "\n",
    "\n",
    "sc = turtle.Screen()\n",
    "\n",
    "pen = turtle.Turtle()\n",
    "\n",
    "def draw():\n",
    "\n",
    "    for i in range(4):\n",
    "        pen.forward(30)\n",
    "        pen.left(90)\n",
    "\n",
    "    pen.forward(30)\n",
    "\n",
    "\n",
    "\n",
    "# Driver Code\n",
    "if __name__ == \"__main__\" :\n",
    "\n",
    "    # set screen\n",
    "    sc.setup(600, 600)\n",
    "\n",
    "    # set turtle object speed\n",
    "    pen.speed(100)\n",
    "\n",
    "    # loops for board\n",
    "    for i in range(8):\n",
    "\n",
    "        pen.up()\n",
    "\n",
    "        # set position for every row\n",
    "        pen.setpos(0, 30 * i)\n",
    "\n",
    "        pen.down()\n",
    "\n",
    "        # row\n",
    "        for j in range(8):\n",
    "\n",
    "            # conditions for alternative color\n",
    "            if (i + j)% 2 == 0:\n",
    "                col ='black'\n",
    "\n",
    "            else:\n",
    "                col ='white'\n",
    "\n",
    "            # fill with given color\n",
    "            pen.fillcolor(col)\n",
    "\n",
    "            # start filling with colour\n",
    "            pen.begin_fill()\n",
    "\n",
    "            draw()\n",
    "\n",
    "\n",
    "            pen.end_fill()\n",
    "\n",
    "    # hide the turtle\n",
    "    pen.hideturtle()"
   ],
   "metadata": {
    "collapsed": false
   }
  },
  {
   "cell_type": "markdown",
   "source": [
    "4.1. (уровень сложности: средний) +1 балл.\n",
    "\n",
    "Вы получили зашифрованное сообщение и теперь предстоит его расшифровать:"
   ],
   "metadata": {
    "collapsed": false
   }
  },
  {
   "cell_type": "code",
   "execution_count": null,
   "outputs": [],
   "source": [
    "def decrypt(v, k):\n",
    "    v0, v1, sum = v[0], v[1], 0xC6EF3720\n",
    "    delta = 0x9E3779B9\n",
    "    k0, k1, k2, k3 = k\n",
    "    for i in range(32):\n",
    "        v1 -= ((v0 << 4) + k2) ^ (v0 + sum) ^ ((v0 >> 5) + k3)\n",
    "        v0 -= ((v1 << 4) + k0) ^ (v1 + sum) ^ ((v1 >> 5) + k1)\n",
    "        sum -= delta\n",
    "    return v0, v1\n",
    "\n",
    "v = [0xE3238557, 0x6204A1F8]\n",
    "k = [0,4,5,1]\n",
    "tmp = decrypt(v, k)\n",
    "print(tmp)\n",
    "kek = len(str(tmp))\n",
    "print(ord(\"П\"))\n",
    "#print(hex(tmp))"
   ],
   "metadata": {
    "collapsed": false
   }
  },
  {
   "cell_type": "markdown",
   "source": [
    "5.1. (уровень сложности: низкий)\n",
    "\n",
    "Редакционное расстояние Хэмминга определяет минимальное число позиций, в которых нужно произвести замену символов, чтобы получить из одной последовательности длины n другую последовательность той же длины.\n",
    "\n",
    "Реализуйте функцию вычисления расстояния Хэмминга для двух чисел, на уровне замен бит.\n",
    "\n",
    "Реализуйте сначала наивную версию, а затем придумайте, как изящно написать функцию в виде однострочника с использованием средств современного Питона.\n",
    "\n",
    "Примеры работы функции:"
   ],
   "metadata": {
    "collapsed": false
   }
  },
  {
   "cell_type": "code",
   "execution_count": 7,
   "outputs": [
    {
     "data": {
      "text/plain": "2"
     },
     "execution_count": 7,
     "metadata": {},
     "output_type": "execute_result"
    }
   ],
   "source": [
    "def hamming_distance(str1, str2):\n",
    "    distance = 0\n",
    "    for i in range(len(str1)):\n",
    "        if str1[i] != str2[i]:\n",
    "            distance += 1\n",
    "    return distance\n",
    "\n",
    "hamming_distance(\"0b101\", \"0b115\")"
   ],
   "metadata": {
    "collapsed": false
   }
  },
  {
   "cell_type": "code",
   "execution_count": null,
   "outputs": [],
   "source": [],
   "metadata": {
    "collapsed": false
   }
  }
 ],
 "metadata": {
  "kernelspec": {
   "display_name": "Python 3",
   "language": "python",
   "name": "python3"
  },
  "language_info": {
   "codemirror_mode": {
    "name": "ipython",
    "version": 2
   },
   "file_extension": ".py",
   "mimetype": "text/x-python",
   "name": "python",
   "nbconvert_exporter": "python",
   "pygments_lexer": "ipython2",
   "version": "2.7.6"
  }
 },
 "nbformat": 4,
 "nbformat_minor": 0
}
