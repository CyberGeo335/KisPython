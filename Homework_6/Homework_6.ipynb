{
 "cells": [
  {
   "cell_type": "markdown",
   "source": [
    "Variant № 8\n",
    "Homework 6"
   ],
   "metadata": {
    "collapsed": false
   }
  },
  {
   "cell_type": "code",
   "execution_count": 58,
   "outputs": [
    {
     "data": {
      "text/plain": "[['832-0998', 'Рифимяк Никита', 'rifimak85[at]yahoo.com', '99.06.26'],\n ['894-4344', 'Фусиди Тимур', 'fusidi77[at]gmail.com', '00.07.24'],\n ['367-6440', 'Нефазев Савва', 'fusidi77[at]gmail.com', '04.01.18']]"
     },
     "execution_count": 58,
     "metadata": {},
     "output_type": "execute_result"
    }
   ],
   "source": [
    "import copy\n",
    "\n",
    "\n",
    "def main(df):\n",
    "    TmpArr = []\n",
    "    for i in range(len(df)):\n",
    "        tmpdf = list([df[i][0], df[i][1], df[i][3], df[i][4]])\n",
    "        TmpArr.append(tmpdf)\n",
    "\n",
    "    tmplength = len(TmpArr)\n",
    "\n",
    "    for i in range(tmplength):\n",
    "\n",
    "        tmp = TmpArr[i][0][8:]\n",
    "\n",
    "        tmpname = tmp.split()\n",
    "        name = tmpname[1] + \" \" + tmpname[0]\n",
    "        TmpArr[i][1] = name\n",
    "\n",
    "        TmpArr[i][0] = TmpArr[i][0][:3] + \"-\" + TmpArr[i][0][3:7]\n",
    "\n",
    "        TmpArr[i][2] = TmpArr[i][2].replace(\"@\", \"[at]\")\n",
    "\n",
    "        time = TmpArr[i][3][8:10] + \".\" + TmpArr[i][3][3:5]\n",
    "        time = time + \".\" + TmpArr[i][3][0:2]\n",
    "        TmpArr[i][3] = time\n",
    "\n",
    "    TmpArr = copy.deepcopy(TmpArr)\n",
    "    return TmpArr\n",
    "\n",
    "dataframe = [[\"8320998|Никита Рифимяк\", None, None, \"rifimak85@yahoo.com\", \"26/06/1999\", \"26/06/1999\"],\n",
    "             [\"8944344|Тимур Фусиди\", None, None, \"fusidi77@gmail.com\", \"24/07/2000\", \"24/07/2000\"],\n",
    "             [\"3676440|Савва Нефазев\", None, None, \"fusidi77@gmail.com\", \"18/01/2004\", \"18/01/2004\"]]\n",
    "\n",
    "main(dataframe)\n"
   ],
   "metadata": {
    "collapsed": false
   }
  },
  {
   "cell_type": "markdown",
   "source": [
    "Variant № 10\n",
    "Homework 6"
   ],
   "metadata": {
    "collapsed": false
   }
  },
  {
   "cell_type": "code",
   "execution_count": 3,
   "metadata": {
    "collapsed": true
   },
   "outputs": [
    {
     "name": "stdout",
     "output_type": "stream",
     "text": [
      "[[None, '0.0|Выполнено', 'tocin22@mail.ru'], [None, '0.7|Не выполнено', 'sutidi89@yahoo.com'], [None, '0.1|Выполнено', 'torimic21@yandex.ru']]\n"
     ]
    }
   ],
   "source": [
    "import copy\n",
    "\n",
    "def main(DataFrame):\n",
    "    TmpDF = []\n",
    "    #TmpDF = copy.deepcopy(DataFrame)\n",
    "    for i in range(len(DataFrame)):\n",
    "        if DataFrame[i].count(None) != len(DataFrame[i]):\n",
    "            TmpDF.append(DataFrame[i])\n",
    "\n",
    "    tmpLength = len(TmpDF)\n",
    "    for i in range(tmpLength):\n",
    "        tmp = TmpDF[i][2]\n",
    "        TmpDF[i][2] = TmpDF[i][1]\n",
    "        TmpDF[i][1] = tmp\n",
    "\n",
    "        TmpDF[i][1] = TmpDF[i][1].replace('@', '[at]')\n",
    "\n",
    "        slicer = TmpDF[i][2][4:len(TmpDF[i][1]) - 1]\n",
    "        if slicer == 'Выполнено':\n",
    "            TmpDF[i][0] = 'true'\n",
    "        elif slicer == 'Не выполнено':\n",
    "            TmpDF[i][0] = 'false'\n",
    "        TmpDF[i][2] = str((float(TmpDF[i][2][:3])))\n",
    "\n",
    "    TmpDF = copy.deepcopy(TmpDF)\n",
    "    return TmpDF\n",
    "\n",
    "\n",
    "dataframe = [[None, \"0.0|Выполнено\", \"tocin22@mail.ru\"],\n",
    "             [None, \"0.7|Не выполнено\", \"sutidi89@yahoo.com\"],\n",
    "             [None, \"0.1|Выполнено\", \"torimic21@yandex.ru\"]]\n",
    "\n",
    "dataframe2 = [[None, \"1.0|Не выполнено\", \"falerev57@rambler.ru\"],\n",
    "              [None, \"0.7|Выполнено\", \"rufubli28@mail.ru\"],\n",
    "              [None, \"0.3|Выполнено\", \"gabecko83@mail.ru\"]]\n",
    "\n",
    "\n",
    "dataframe3 = [[None, None, None],\n",
    "              [None, '0.0|Выполнено', 'tocin22@mail.ru'],\n",
    "              [None, '0.7|Не выполнено', 'sutidi89@yahoo.com'],\n",
    "              [None, '0.1|Выполнено', 'torimic21@yandex.ru']]\n",
    "\n",
    "dataframe4 = [[None, '0.2|Не выполнено', 'cerigskij79@yahoo.com'],\n",
    "              [None, '0.2|Не выполнено', 'kozskij38@gmail.com'],\n",
    "              [None, '0.0|Не выполнено', 'sesic88@rambler.ru'],\n",
    "              [None, None, None],\n",
    "              [None, '0.1|Выполнено', 'vunan2@yandex.ru']]\n",
    "\n",
    "print(main(dataframe))\n",
    "print(main(dataframe2))\n",
    "print(main(dataframe3))\n",
    "print(main(dataframe4))"
   ]
  },
  {
   "cell_type": "markdown",
   "source": [
    "Variant № 18\n",
    "Homework 6"
   ],
   "metadata": {
    "collapsed": false
   }
  },
  {
   "cell_type": "code",
   "execution_count": 126,
   "outputs": [
    {
     "data": {
      "text/plain": "[['18-02-02', '(119) 875-2545', '0.900'],\n ['13-10-03', '(390) 845-5755', '0.100'],\n ['11-06-04', '(009) 228-2718', '0.800']]"
     },
     "execution_count": 126,
     "metadata": {},
     "output_type": "execute_result"
    }
   ],
   "source": [
    "import copy\n",
    "\n",
    "\n",
    "def main(DataFrame):\n",
    "    TmpDf = []\n",
    "    for i in range(len(DataFrame)):\n",
    "        if DataFrame[i].count(None) != len(DataFrame[i]):\n",
    "                TmpDf.append(DataFrame[i])\n",
    "\n",
    "    TmpDf = list(map(list, {tuple(x) for x in TmpDf}))\n",
    "\n",
    "    for i in range (len(TmpDf)):\n",
    "\n",
    "        TmpDf[i][0] = TmpDf[i][0][3:]\n",
    "\n",
    "        numtel = TmpDf[i][0][:15]\n",
    "        date = TmpDf[i][0][16:]\n",
    "\n",
    "        TmpDf[i][0] = date.replace(\".\", \"-\")\n",
    "        TmpDf[i][1] = numtel\n",
    "        TmpDf[i][1] = TmpDf[i][1][:12] + TmpDf[i][1][13:]\n",
    "\n",
    "        TmpDf[i][2] += \"00\"\n",
    "\n",
    "    TmpDf = copy.deepcopy(TmpDf)\n",
    "\n",
    "    return TmpDf\n",
    "\n",
    "\n",
    "dataframe = [[\"+7 (119) 875-25-45!18.02.02\", \"0.9\", \"0.9\"],\n",
    "             [\"+7 (390) 845-57-55!13.10.03\", \"0.1\", \"0.1\"],\n",
    "             [\"+7 (119) 875-25-45!18.02.02\", \"0.9\", \"0.9\"],\n",
    "             [\"+7 (009) 228-27-18!11.06.04\", \"0.8\", \"0.8\"]]\n",
    "\n",
    "\n",
    "dataframe2 = [[\"+7 (119) 875-25-45!18.02.02\", \"0.9\", \"0.9\"],\n",
    "             [\"+7 (390) 845-57-55!13.10.03\", \"0.1\", \"0.1\"],\n",
    "             [\"+7 (119) 875-25-45!18.02.02\", \"0.9\", \"0.9\"],\n",
    "              [None, None, None],\n",
    "             [\"+7 (009) 228-27-18!11.06.04\", \"0.8\", \"0.8\"]]\n",
    "\n",
    "\n",
    "dataframe3 = [[\"+7 (119) 875-25-45!18.02.02\", \"0.9\", \"0.9\"],\n",
    "              [\"+7 (119) 875-25-45!18.02.02\", \"0.9\", \"0.9\"],\n",
    "              [\"+7 (390) 845-57-55!13.10.03\", \"0.1\", \"0.1\"],\n",
    "              [\"+7 (119) 875-25-45!18.02.02\", \"0.9\", \"0.9\"],]\n",
    "\n",
    "\n",
    "dataframe4 = [['+7 (119) 875-25-45!18.02.02', '0.9', '0.9'],\n",
    "              ['+7 (390) 845-57-55!13.10.03', '0.1', '0.1'],\n",
    "              ['+7 (119) 875-25-45!18.02.02', '0.9', '0.9'],\n",
    "              [None, None, None],\n",
    "              ['+7 (009) 228-27-18!11.06.04', '0.8', '0.8']]\n",
    "\n",
    "\n",
    "dataframe5 = [['+7 (119) 875-25-45!18.02.02', '0.9', '0.9'],\n",
    "              ['+7 (390) 845-57-55!13.10.03', '0.1', '0.1'],\n",
    "              ['+7 (119) 875-25-45!18.02.02', '0.9', '0.9'],\n",
    "              [None, None, None],\n",
    "              ['+7 (009) 228-27-18!11.06.04', '0.8', '0.8']]\n",
    "\n",
    "\n",
    "dfextra = [['+7 (119) 875-25-45!18.02.02', '0.9', '0.9'],\n",
    "           ['+7 (390) 845-57-55!13.10.03', '0.1', '0.1'],\n",
    "           ['+7 (119) 875-25-45!18.02.02', '0.9', '0.9'],\n",
    "           [None, None, None],\n",
    "           ['+7 (009) 228-27-18!11.06.04', '0.8', '0.8']]\n",
    "#main(dataframe)\n",
    "#main(dataframe2)\n",
    "#main(dataframe3)\n",
    "#main(dataframe4)\n",
    "#main(dataframe5)\n",
    "main(dfextra)"
   ],
   "metadata": {
    "collapsed": false
   }
  },
  {
   "cell_type": "code",
   "execution_count": null,
   "outputs": [],
   "source": [],
   "metadata": {
    "collapsed": false
   }
  }
 ],
 "metadata": {
  "kernelspec": {
   "display_name": "Python 3",
   "language": "python",
   "name": "python3"
  },
  "language_info": {
   "codemirror_mode": {
    "name": "ipython",
    "version": 2
   },
   "file_extension": ".py",
   "mimetype": "text/x-python",
   "name": "python",
   "nbconvert_exporter": "python",
   "pygments_lexer": "ipython2",
   "version": "2.7.6"
  }
 },
 "nbformat": 4,
 "nbformat_minor": 0
}
