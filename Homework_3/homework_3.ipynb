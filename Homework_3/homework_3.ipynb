{
 "cells": [
  {
   "cell_type": "markdown",
   "source": [
    "Variant № 6\n",
    "Homework 3"
   ],
   "metadata": {
    "collapsed": false
   }
  },
  {
   "cell_type": "code",
   "execution_count": 44,
   "outputs": [
    {
     "name": "stdout",
     "output_type": "stream",
     "text": [
      "3\n"
     ]
    }
   ],
   "source": [
    "def Twos(x):\n",
    "    if x[2] == 1969:\n",
    "        if x[1] == 1979:\n",
    "            return 0\n",
    "        elif x[1] == 1967:\n",
    "            return 1\n",
    "    elif x[2] == 1968:\n",
    "        return 2\n",
    "    elif x[2] == 1995:\n",
    "        return 3\n",
    "\n",
    "def Threes(x):\n",
    "    if x[3] == 'CLEAN':\n",
    "        if x[1] == 1979:\n",
    "            return 4\n",
    "        elif x[1] == 1967:\n",
    "            return 5\n",
    "    elif x[3] == 'LFE':\n",
    "        if x[1] == 1979:\n",
    "            return 6\n",
    "        elif x[1] == 1967:\n",
    "            return 7\n",
    "    elif x[3] == 'SCAML':\n",
    "        return 8\n",
    "\n",
    "def main(x):\n",
    "    if x[0] == 2020:\n",
    "        return Twos(x)\n",
    "    elif x[0] == 2015:\n",
    "        return Threes(x)\n",
    "    elif x[0] == 2001:\n",
    "        return 9\n",
    "\n",
    "\n",
    "x = [2020, 1979, 1995, 'CLEAN']\n",
    "#x = [2001, 1967, 1995, 'CLEAN']\n",
    "#x = [2015, 1967, 1995, 'LFE']\n",
    "#x = [2020, 1967, 1969, 'SCAML']\n",
    "#x = [2020, 1979, 1968, 'CLEAN']\n",
    "\n",
    "print(main(x))"
   ],
   "metadata": {
    "collapsed": false
   }
  },
  {
   "cell_type": "markdown",
   "source": [
    "Variant № 8\n",
    "Homework 3"
   ],
   "metadata": {
    "collapsed": false
   }
  },
  {
   "cell_type": "code",
   "execution_count": 45,
   "outputs": [
    {
     "name": "stdout",
     "output_type": "stream",
     "text": [
      "7\n"
     ]
    }
   ],
   "source": [
    "def ZeroUp(x):\n",
    "    if x[0] == 2020:\n",
    "        return 0\n",
    "    elif x[0] == 1963:\n",
    "        return 1\n",
    "    elif x[0] == 1975:\n",
    "        return 2\n",
    "\n",
    "def Ones(x):\n",
    "    if x[1] == 'NL':\n",
    "        return ZeroUp(x)\n",
    "    elif x[1] == 'NU':\n",
    "        return 3\n",
    "    elif x[1] == 'ADA':\n",
    "        return 4\n",
    "\n",
    "def ThreeMid(x):\n",
    "    if x[3] == 'LIMBO':\n",
    "        return 5\n",
    "    elif x[3] == 'M4':\n",
    "        return 6\n",
    "    elif x[3] == 'TEXT':\n",
    "        return 7\n",
    "\n",
    "def ThreeDown(x):\n",
    "    if x[3] == 'LIMBO':\n",
    "        return 8\n",
    "    elif x[3] == 'M4':\n",
    "        if x[0] == 2020:\n",
    "            return 9\n",
    "        elif x[0] == 1963:\n",
    "            return 10\n",
    "        elif x[0] == 1975:\n",
    "            return 11\n",
    "    elif x[3] == 'TEXT':\n",
    "            return 12\n",
    "\n",
    "def main(x):\n",
    "    if x[2] == 1975:\n",
    "        return Ones(x)\n",
    "    elif x[2] == 1967:\n",
    "        return ThreeMid(x)\n",
    "    elif x[2] == 1999:\n",
    "        return ThreeDown(x)\n",
    "\n",
    "\n",
    "#x = [1975, 'ADA', 1967, 'M4']\n",
    "#x = [1975, 'ADA', 1975, 'TEXT']\n",
    "#x = [2020, 'ADA', 1999, 'TEXT']\n",
    "x = [1975, 'ADA', 1999, 'M4']\n",
    "x = [2020, 'NU', 1967, 'TEXT']\n",
    "print(main(x))"
   ],
   "metadata": {
    "collapsed": false
   }
  },
  {
   "cell_type": "markdown",
   "source": [
    "Variant № 10\n",
    "Homework 3"
   ],
   "metadata": {
    "collapsed": false
   }
  },
  {
   "cell_type": "code",
   "execution_count": 46,
   "outputs": [
    {
     "name": "stdout",
     "output_type": "stream",
     "text": [
      "3\n"
     ]
    }
   ],
   "source": [
    "def foo0(x):\n",
    "    if x[0] == 1999:\n",
    "        return foo2(x)\n",
    "    elif x[0] == 1967:\n",
    "        return foo2mid(x)\n",
    "    elif x[0] == 1958:\n",
    "        return foo2down(x)\n",
    "\n",
    "\n",
    "def foo2(x):\n",
    "    if x[2] == 'GOSU':\n",
    "        if x[1] == 'PAWN':\n",
    "            return 0\n",
    "        elif x[1] == 'AWK':\n",
    "            return 1\n",
    "        elif x[1] == 'GLSL':\n",
    "            return 2\n",
    "    elif x[2] == 'FORTH':\n",
    "        return 3\n",
    "\n",
    "\n",
    "def foo2mid(x):\n",
    "    if x[2] == 'GOSU':\n",
    "        if x[1] == 'PAWN':\n",
    "            return 4\n",
    "        elif x[1] == 'AWK':\n",
    "            return 5\n",
    "        elif x[1] == 'GLSL':\n",
    "            return 6\n",
    "    elif x[2] == 'FORTH':\n",
    "        return 7\n",
    "\n",
    "\n",
    "def foo2down(x):\n",
    "    if x[2] == 'GOSU':\n",
    "        return foo3(x)\n",
    "    elif x[2] == 'FORTH':\n",
    "        return 11\n",
    "\n",
    "\n",
    "def foo3(x):\n",
    "    if x[3] == 1964:\n",
    "        return 8\n",
    "    elif x[3] == 1988:\n",
    "        return 9\n",
    "    elif x[3] == 1994:\n",
    "        return 10\n",
    "\n",
    "\n",
    "def foo4(x):\n",
    "    if x[4] == 'CIRRU':\n",
    "        return foo0(x)\n",
    "    elif x[4] == 'GRACE':\n",
    "        return 12\n",
    "\n",
    "\n",
    "def main(x):\n",
    "    return foo4(x)\n",
    "\n",
    "\n",
    "x = [1999, 'GLSL', 'FORTH', 1988, 'CIRRU']\n",
    "print(main(x))"
   ],
   "metadata": {
    "collapsed": false
   }
  },
  {
   "cell_type": "markdown",
   "source": [
    "Variant № 12\n",
    "Homework 3"
   ],
   "metadata": {
    "collapsed": false
   }
  },
  {
   "cell_type": "code",
   "execution_count": 47,
   "outputs": [
    {
     "name": "stdout",
     "output_type": "stream",
     "text": [
      "1\n"
     ]
    }
   ],
   "source": [
    "def ThreeUp(x):\n",
    "    if x[3] == 2017:\n",
    "        return 0\n",
    "    elif x[3] == 2016:\n",
    "        return 1\n",
    "    elif x[3] == 2006:\n",
    "        return 2\n",
    "\n",
    "\n",
    "def FourUp(x):\n",
    "    if x[4] == 'EBNF':\n",
    "        return ThreeUp(x)\n",
    "    elif x[4] == 'JSX':\n",
    "        return 3\n",
    "    elif x[4] == 'DIFF':\n",
    "        if x[1] == 1966:\n",
    "            return 4\n",
    "        elif x[1] == 1991:\n",
    "            return 5\n",
    "        elif x[1] == 1959:\n",
    "            return 6\n",
    "\n",
    "def ThreeMid(x):\n",
    "    if x[3] == 2017:\n",
    "        return FourDown(x)\n",
    "    elif x[3] == 2016:\n",
    "        return 10\n",
    "    elif x[3] == 2006:\n",
    "        return 11\n",
    "\n",
    "def FourDown(x):\n",
    "    if x[4] == 'EBNF':\n",
    "        return 7\n",
    "    elif x[4] == 'JSX':\n",
    "        return 8\n",
    "    elif x[4] == 'DIFF':\n",
    "        return 9\n",
    "\n",
    "def main(x):\n",
    "    if x[2] == 'VOLT':\n",
    "        if x[0] == 'VUE':\n",
    "            return FourUp(x)\n",
    "        elif x[0] == 'EQ':\n",
    "            return ThreeMid(x)\n",
    "    elif x[2] == 'SQF':\n",
    "        return 12\n",
    "    elif x[2] == 'LFE':\n",
    "        return 13\n",
    "\n",
    "\n",
    "x = ['EQ', 1959, 'VOLT', 2006, 'JSX']\n",
    "x = ['VUE', 1966, 'VOLT', 2017, 'EBNF']\n",
    "x = ['VUE', 1991, 'VOLT', 2016, 'EBNF']\n",
    "#x = ['EQ', 1966, 'VOLT', 2017, 'EBNF']\n",
    "#x = ['EQ', 1966, 'SQF', 2006, 'DIFF']\n",
    "print(main(x))"
   ],
   "metadata": {
    "collapsed": false
   }
  },
  {
   "cell_type": "markdown",
   "source": [
    "Variant № 14\n",
    "Homework 3"
   ],
   "metadata": {
    "collapsed": false
   }
  },
  {
   "cell_type": "code",
   "execution_count": 48,
   "outputs": [
    {
     "name": "stdout",
     "output_type": "stream",
     "text": [
      "3\n"
     ]
    }
   ],
   "source": [
    "def OneMid(x):\n",
    "    if x[1] == 'HTTP':\n",
    "        if x[2] == 'CSV':\n",
    "            return 4\n",
    "        elif x[2] == 'XOJO':\n",
    "            return 5\n",
    "    elif x[1] == 'IOKE':\n",
    "        return 6\n",
    "    elif x[1] == 'NESC':\n",
    "        return 7\n",
    "\n",
    "def TwoUp(x):\n",
    "    if x[2] == 'CSV':\n",
    "        if x[1] == 'HTTP':\n",
    "            return 0\n",
    "        elif x[1] == 'IOKE':\n",
    "            return 1\n",
    "        elif x[1] == 'NESC':\n",
    "            return 2\n",
    "    elif x[2] == 'XOJO':\n",
    "        return 3\n",
    "\n",
    "def Three(x):\n",
    "    if x[3] == 2004:\n",
    "        return TwoUp(x)\n",
    "    elif x[3] == 1959:\n",
    "        return OneMid(x)\n",
    "    elif x[3] == 1992:\n",
    "        return 8\n",
    "\n",
    "    return\n",
    "\n",
    "def main(x):\n",
    "    if x[0] == 'JSX':\n",
    "        return Three(x)\n",
    "    elif x[0] == 'LUA':\n",
    "        return 9\n",
    "    elif x[0] == 'X10':\n",
    "        return 10\n",
    "\n",
    "\n",
    "x = ['LUA', 'NESC', 'XOJO', 1992, 'AWK']\n",
    "x = ['X10', 'NESC', 'CSV', 1959, 'BRO']\n",
    "x = ['JSX', 'NESC', 'CSV', 1992, 'ASN.1']\n",
    "x = ['JSX', 'NESC', 'CSV', 2004, 'ASN.1']\n",
    "x = ['JSX', 'IOKE', 'XOJO', 2004, 'ASN.1']\n",
    "print(main(x))"
   ],
   "metadata": {
    "collapsed": false
   }
  },
  {
   "cell_type": "markdown",
   "source": [
    "Variant № 18\n",
    "Homework 3"
   ],
   "metadata": {
    "collapsed": false
   }
  },
  {
   "cell_type": "code",
   "execution_count": 49,
   "outputs": [
    {
     "name": "stdout",
     "output_type": "stream",
     "text": [
      "3\n"
     ]
    }
   ],
   "source": [
    "def ZeroUp(x):\n",
    "    if x[0] == 1966:\n",
    "        return ThreeUp(x)\n",
    "    elif x[0] == 2005:\n",
    "        if x[1] == 2015:\n",
    "            return 3\n",
    "        elif x[1] == 1997:\n",
    "            return 4\n",
    "    elif x[0] == 1964:\n",
    "        return 5\n",
    "\n",
    "def ZeroMid(x):\n",
    "    if x[0] == 1966:\n",
    "        return ThreeMid(x)\n",
    "    elif x[0] == 2005:\n",
    "        return 10\n",
    "    elif x[0] == 1964:\n",
    "        return 11\n",
    "\n",
    "def ThreeMid(x):\n",
    "    if x[3] == 2017:\n",
    "        return 6\n",
    "    elif x[3] == 2011:\n",
    "        if x[4] == 2003:\n",
    "            return 7\n",
    "        elif x[4] == 2005:\n",
    "            return 8\n",
    "        elif x[4] == 1967:\n",
    "            return 9\n",
    "\n",
    "\n",
    "def ThreeUp(x):\n",
    "    if x[3] == 2017:\n",
    "        if x[1] == 2015:\n",
    "            return 0\n",
    "        elif x[1] == 1997:\n",
    "            return 1\n",
    "    elif x[3] == 2011:\n",
    "        return 2\n",
    "\n",
    "def main(x):\n",
    "    if x[2] == 'GLSL':\n",
    "        return ZeroUp(x)\n",
    "    elif x[2] == 'QMAKE':\n",
    "        return ZeroMid(x)\n",
    "    elif x[2] == 'NESC':\n",
    "        return 12\n",
    "\n",
    "\n",
    "x = [2005, 1997, 'QMAKE', 2011, 1967]\n",
    "x = [2005, 2015, 'GLSL', 2011, 2003]\n",
    "#x = [1966, 2015, 'QMAKE', 2011, 2005]\n",
    "#x = [1964, 1997, 'NESC', 2017, 2003]\n",
    "#x = [1964, 2015, 'GLSL', 2017, 2003]\n",
    "print(main(x))"
   ],
   "metadata": {
    "collapsed": false
   }
  },
  {
   "cell_type": "code",
   "execution_count": 49,
   "outputs": [],
   "source": [],
   "metadata": {
    "collapsed": false
   }
  }
 ],
 "metadata": {
  "kernelspec": {
   "display_name": "Python 3",
   "language": "python",
   "name": "python3"
  },
  "language_info": {
   "codemirror_mode": {
    "name": "ipython",
    "version": 2
   },
   "file_extension": ".py",
   "mimetype": "text/x-python",
   "name": "python",
   "nbconvert_exporter": "python",
   "pygments_lexer": "ipython2",
   "version": "2.7.6"
  }
 },
 "nbformat": 4,
 "nbformat_minor": 0
}
